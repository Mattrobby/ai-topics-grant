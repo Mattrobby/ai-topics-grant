{
 "cells": [
  {
   "cell_type": "markdown",
   "source": [
    "# <center> Scatter Plot </center>\n",
    "---"
   ],
   "metadata": {
    "collapsed": false,
    "pycharm": {
     "name": "#%% md\n"
    }
   }
  },
  {
   "cell_type": "markdown",
   "source": [
    "## Importing the data"
   ],
   "metadata": {
    "collapsed": false,
    "pycharm": {
     "name": "#%% md\n"
    }
   }
  },
  {
   "cell_type": "code",
   "execution_count": 1,
   "outputs": [],
   "source": [
    "import data\n",
    "import pandas as pd\n",
    "import matplotlib.pyplot as plt\n",
    "\n",
    "rawData = data.Data()"
   ],
   "metadata": {
    "collapsed": false,
    "pycharm": {
     "name": "#%%\n"
    }
   }
  },
  {
   "cell_type": "markdown",
   "source": [
    "## Find rows by ID"
   ],
   "metadata": {
    "collapsed": false,
    "pycharm": {
     "name": "#%% md\n"
    }
   }
  },
  {
   "cell_type": "code",
   "execution_count": 2,
   "outputs": [
    {
     "data": {
      "text/plain": "                  id              modified\n0  arxivorg:CBBFE8A2  2021-01-12T00:00:00Z",
      "text/html": "<div>\n<style scoped>\n    .dataframe tbody tr th:only-of-type {\n        vertical-align: middle;\n    }\n\n    .dataframe tbody tr th {\n        vertical-align: top;\n    }\n\n    .dataframe thead th {\n        text-align: right;\n    }\n</style>\n<table border=\"1\" class=\"dataframe\">\n  <thead>\n    <tr style=\"text-align: right;\">\n      <th></th>\n      <th>id</th>\n      <th>modified</th>\n    </tr>\n  </thead>\n  <tbody>\n    <tr>\n      <th>0</th>\n      <td>arxivorg:CBBFE8A2</td>\n      <td>2021-01-12T00:00:00Z</td>\n    </tr>\n  </tbody>\n</table>\n</div>"
     },
     "execution_count": 2,
     "metadata": {},
     "output_type": "execute_result"
    }
   ],
   "source": [
    "datesList = rawData.getAllModified()\n",
    "datesList.loc[datesList.id=='arxivorg:CBBFE8A2']"
   ],
   "metadata": {
    "collapsed": false,
    "pycharm": {
     "name": "#%%\n"
    }
   }
  },
  {
   "cell_type": "code",
   "execution_count": 3,
   "outputs": [
    {
     "data": {
      "text/plain": "'2021-01-12T00:00:00Z'"
     },
     "execution_count": 3,
     "metadata": {},
     "output_type": "execute_result"
    }
   ],
   "source": [
    "singleDate = datesList.loc[datesList.id=='arxivorg:CBBFE8A2'].get('modified').iloc[0]\n",
    "singleDate"
   ],
   "metadata": {
    "collapsed": false,
    "pycharm": {
     "name": "#%%\n"
    }
   }
  },
  {
   "cell_type": "markdown",
   "source": [
    "## Scatter Plot Method"
   ],
   "metadata": {
    "collapsed": false,
    "pycharm": {
     "name": "#%% md\n"
    }
   }
  },
  {
   "cell_type": "code",
   "execution_count": 4,
   "outputs": [],
   "source": [
    "def makeScatterPlotByTag(tag):\n",
    "    datesList = rawData.getAllModified()\n",
    "    tagsList = rawData.getAllTags()\n",
    "\n",
    "    result = tagsList.loc[tagsList.tags==tag]\n",
    "\n",
    "    dates = []\n",
    "    for id in result.id:\n",
    "        date = datesList.loc[datesList.id==id].get('modified').iloc[0]\n",
    "        dates.append(date)\n",
    "\n",
    "    dates = [pd.to_datetime(d) for d in dates]\n",
    "    return plt.scatter(dates, result.id, s =10, c = 'red')"
   ],
   "metadata": {
    "collapsed": false,
    "pycharm": {
     "name": "#%%\n"
    }
   }
  },
  {
   "cell_type": "code",
   "execution_count": 5,
   "outputs": [
    {
     "data": {
      "text/plain": "<matplotlib.collections.PathCollection at 0x7fd11d6a5ea0>"
     },
     "execution_count": 5,
     "metadata": {},
     "output_type": "execute_result"
    },
    {
     "data": {
      "text/plain": "<Figure size 432x288 with 1 Axes>",
      "image/png": "[encoded data removed]"
     },
     "metadata": {
      "needs_background": "light"
     },
     "output_type": "display_data"
    }
   ],
   "source": [
    "result = makeScatterPlotByTag('wang')\n",
    "result"
   ],
   "metadata": {
    "collapsed": false,
    "pycharm": {
     "name": "#%%\n"
    }
   }
  },
  {
   "cell_type": "code",
   "execution_count": 6,
   "outputs": [
    {
     "name": "stdout",
     "output_type": "stream",
     "text": [
      "          date  occurrences\n",
      "0   2007-06-30            1\n",
      "1   2007-07-31            0\n",
      "2   2007-08-31            1\n",
      "3   2007-09-30            0\n",
      "4   2007-10-31            0\n",
      "..         ...          ...\n",
      "172 2021-10-31           22\n",
      "173 2021-11-30           23\n",
      "174 2021-12-31           17\n",
      "175 2022-01-31           28\n",
      "176 2022-02-28           15\n",
      "\n",
      "[177 rows x 2 columns]\n"
     ]
    },
    {
     "data": {
      "text/plain": "<AxesSubplot:xlabel='Date', ylabel='Occurrences'>"
     },
     "execution_count": 6,
     "metadata": {},
     "output_type": "execute_result"
    },
    {
     "data": {
      "text/plain": "<Figure size 1440x360 with 1 Axes>",
      "image/png": "[encoded data removed]"
     },
     "metadata": {
      "needs_background": "light"
     },
     "output_type": "display_data"
    }
   ],
   "source": [
    "rawData.makeScatterPlotByTag('artificial intelligence')"
   ],
   "metadata": {
    "collapsed": false,
    "pycharm": {
     "name": "#%%\n"
    }
   }
  },
  {
   "cell_type": "code",
   "execution_count": 7,
   "outputs": [
    {
     "data": {
      "text/plain": "         date  occurrences\n0  2007-12-31            8\n1  2008-12-31            3\n2  2009-12-31            3\n3  2010-12-31            5\n4  2011-12-31           14\n5  2012-12-31            3\n6  2013-12-31           20\n7  2014-12-31           10\n8  2015-12-31            9\n9  2016-12-31           17\n10 2017-12-31           32\n11 2018-12-31          140\n12 2019-12-31          194\n13 2020-12-31          236\n14 2021-12-31          254\n15 2022-12-31           43",
      "text/html": "<div>\n<style scoped>\n    .dataframe tbody tr th:only-of-type {\n        vertical-align: middle;\n    }\n\n    .dataframe tbody tr th {\n        vertical-align: top;\n    }\n\n    .dataframe thead th {\n        text-align: right;\n    }\n</style>\n<table border=\"1\" class=\"dataframe\">\n  <thead>\n    <tr style=\"text-align: right;\">\n      <th></th>\n      <th>date</th>\n      <th>occurrences</th>\n    </tr>\n  </thead>\n  <tbody>\n    <tr>\n      <th>0</th>\n      <td>2007-12-31</td>\n      <td>8</td>\n    </tr>\n    <tr>\n      <th>1</th>\n      <td>2008-12-31</td>\n      <td>3</td>\n    </tr>\n    <tr>\n      <th>2</th>\n      <td>2009-12-31</td>\n      <td>3</td>\n    </tr>\n    <tr>\n      <th>3</th>\n      <td>2010-12-31</td>\n      <td>5</td>\n    </tr>\n    <tr>\n      <th>4</th>\n      <td>2011-12-31</td>\n      <td>14</td>\n    </tr>\n    <tr>\n      <th>5</th>\n      <td>2012-12-31</td>\n      <td>3</td>\n    </tr>\n    <tr>\n      <th>6</th>\n      <td>2013-12-31</td>\n      <td>20</td>\n    </tr>\n    <tr>\n      <th>7</th>\n      <td>2014-12-31</td>\n      <td>10</td>\n    </tr>\n    <tr>\n      <th>8</th>\n      <td>2015-12-31</td>\n      <td>9</td>\n    </tr>\n    <tr>\n      <th>9</th>\n      <td>2016-12-31</td>\n      <td>17</td>\n    </tr>\n    <tr>\n      <th>10</th>\n      <td>2017-12-31</td>\n      <td>32</td>\n    </tr>\n    <tr>\n      <th>11</th>\n      <td>2018-12-31</td>\n      <td>140</td>\n    </tr>\n    <tr>\n      <th>12</th>\n      <td>2019-12-31</td>\n      <td>194</td>\n    </tr>\n    <tr>\n      <th>13</th>\n      <td>2020-12-31</td>\n      <td>236</td>\n    </tr>\n    <tr>\n      <th>14</th>\n      <td>2021-12-31</td>\n      <td>254</td>\n    </tr>\n    <tr>\n      <th>15</th>\n      <td>2022-12-31</td>\n      <td>43</td>\n    </tr>\n  </tbody>\n</table>\n</div>"
     },
     "execution_count": 7,
     "metadata": {},
     "output_type": "execute_result"
    }
   ],
   "source": [
    "tagsList = rawData.getAllTags()\n",
    "tag = 'artificial intelligence'\n",
    "\n",
    "result = tagsList.loc[tagsList.tags == tag]\n",
    "dates = rawData.getDateById(result)\n",
    "\n",
    "dates = [pd.to_datetime(d) for d in dates]\n",
    "dates_df = pd.DataFrame(\n",
    "    {\n",
    "        \"date\": dates\n",
    "    })\n",
    "dates_df = dates_df.groupby(dates_df['date'])\n",
    "\n",
    "dates_df = dates_df.value_counts()\n",
    "dates_df = dates_df.groupby(pd.Grouper(freq='Y')).sum()\n",
    "dates_df.to_frame('occurrences').reset_index()"
   ],
   "metadata": {
    "collapsed": false,
    "pycharm": {
     "name": "#%%\n"
    }
   }
  },
  {
   "cell_type": "code",
   "execution_count": 7,
   "outputs": [],
   "source": [],
   "metadata": {
    "collapsed": false,
    "pycharm": {
     "name": "#%%\n"
    }
   }
  }
 ],
 "metadata": {
  "kernelspec": {
   "display_name": "Python 3",
   "language": "python",
   "name": "python3"
  },
  "language_info": {
   "codemirror_mode": {
    "name": "ipython",
    "version": 2
   },
   "file_extension": ".py",
   "mimetype": "text/x-python",
   "name": "python",
   "nbconvert_exporter": "python",
   "pygments_lexer": "ipython2",
   "version": "2.7.6"
  }
 },
 "nbformat": 4,
 "nbformat_minor": 0
}
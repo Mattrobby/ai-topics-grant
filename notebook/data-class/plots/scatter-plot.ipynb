{
 "cells": [
  {
   "cell_type": "markdown",
   "source": [
    "# <center> Scatter Plot </center>\n",
    "---"
   ],
   "metadata": {
    "collapsed": false,
    "pycharm": {
     "name": "#%% md\n"
    }
   }
  },
  {
   "cell_type": "markdown",
   "source": [
    "## Importing the data"
   ],
   "metadata": {
    "collapsed": false,
    "pycharm": {
     "name": "#%% md\n"
    }
   }
  },
  {
   "cell_type": "code",
   "execution_count": 1,
   "outputs": [],
   "source": [
    "import data\n",
    "import pandas as pd\n",
    "import matplotlib.pyplot as plt\n",
    "\n",
    "rawData = data.Data()"
   ],
   "metadata": {
    "collapsed": false,
    "pycharm": {
     "name": "#%%\n"
    }
   }
  },
  {
   "cell_type": "markdown",
   "source": [
    "## Find rows by ID"
   ],
   "metadata": {
    "collapsed": false,
    "pycharm": {
     "name": "#%% md\n"
    }
   }
  },
  {
   "cell_type": "code",
   "execution_count": 2,
   "outputs": [
    {
     "data": {
      "text/plain": "                  id              modified\n0  arxivorg:CBBFE8A2  2021-01-12T00:00:00Z",
      "text/html": "<div>\n<style scoped>\n    .dataframe tbody tr th:only-of-type {\n        vertical-align: middle;\n    }\n\n    .dataframe tbody tr th {\n        vertical-align: top;\n    }\n\n    .dataframe thead th {\n        text-align: right;\n    }\n</style>\n<table border=\"1\" class=\"dataframe\">\n  <thead>\n    <tr style=\"text-align: right;\">\n      <th></th>\n      <th>id</th>\n      <th>modified</th>\n    </tr>\n  </thead>\n  <tbody>\n    <tr>\n      <th>0</th>\n      <td>arxivorg:CBBFE8A2</td>\n      <td>2021-01-12T00:00:00Z</td>\n    </tr>\n  </tbody>\n</table>\n</div>"
     },
     "execution_count": 2,
     "metadata": {},
     "output_type": "execute_result"
    }
   ],
   "source": [
    "datesList = rawData.getAllModified()\n",
    "datesList.loc[datesList.id=='arxivorg:CBBFE8A2']"
   ],
   "metadata": {
    "collapsed": false,
    "pycharm": {
     "name": "#%%\n"
    }
   }
  },
  {
   "cell_type": "code",
   "execution_count": 3,
   "outputs": [
    {
     "data": {
      "text/plain": "'2021-01-12T00:00:00Z'"
     },
     "execution_count": 3,
     "metadata": {},
     "output_type": "execute_result"
    }
   ],
   "source": [
    "singleDate = datesList.loc[datesList.id=='arxivorg:CBBFE8A2'].get('modified').iloc[0]\n",
    "singleDate"
   ],
   "metadata": {
    "collapsed": false,
    "pycharm": {
     "name": "#%%\n"
    }
   }
  },
  {
   "cell_type": "markdown",
   "source": [
    "## Scatter Plot Method"
   ],
   "metadata": {
    "collapsed": false,
    "pycharm": {
     "name": "#%% md\n"
    }
   }
  },
  {
   "cell_type": "code",
   "execution_count": 4,
   "outputs": [],
   "source": [
    "def makeScatterPlotByTag(tag):\n",
    "    datesList = rawData.getAllModified()\n",
    "    tagsList = rawData.getAllTags()\n",
    "\n",
    "    result = tagsList.loc[tagsList.tags==tag]\n",
    "\n",
    "    dates = []\n",
    "    for id in result.id:\n",
    "        date = datesList.loc[datesList.id==id].get('modified').iloc[0]\n",
    "        dates.append(date)\n",
    "\n",
    "    dates = [pd.to_datetime(d) for d in dates]\n",
    "    return plt.scatter(dates, result.id, s =10, c = 'red')"
   ],
   "metadata": {
    "collapsed": false,
    "pycharm": {
     "name": "#%%\n"
    }
   }
  },
  {
   "cell_type": "code",
   "execution_count": 5,
   "outputs": [
    {
     "data": {
      "text/plain": "<matplotlib.collections.PathCollection at 0x7f98b8c0add0>"
     },
     "execution_count": 5,
     "metadata": {},
     "output_type": "execute_result"
    },
    {
     "data": {
      "text/plain": "<Figure size 432x288 with 1 Axes>",
      "image/png": "[encoded data removed]"
     },
     "metadata": {
      "needs_background": "light"
     },
     "output_type": "display_data"
    }
   ],
   "source": [
    "result = makeScatterPlotByTag('wang')\n",
    "result"
   ],
   "metadata": {
    "collapsed": false,
    "pycharm": {
     "name": "#%%\n"
    }
   }
  },
  {
   "cell_type": "code",
   "execution_count": 6,
   "outputs": [
    {
     "ename": "UFuncTypeError",
     "evalue": "ufunc 'add' cannot use operands with types dtype('<M8[ns]') and dtype('float64')",
     "output_type": "error",
     "traceback": [
      "\u001B[0;31m---------------------------------------------------------------------------\u001B[0m",
      "\u001B[0;31mUFuncTypeError\u001B[0m                            Traceback (most recent call last)",
      "Input \u001B[0;32mIn [6]\u001B[0m, in \u001B[0;36m<cell line: 1>\u001B[0;34m()\u001B[0m\n\u001B[0;32m----> 1\u001B[0m \u001B[43mrawData\u001B[49m\u001B[38;5;241;43m.\u001B[39;49m\u001B[43mmakeScatterPlotByTag\u001B[49m\u001B[43m(\u001B[49m\u001B[38;5;124;43m'\u001B[39;49m\u001B[38;5;124;43martificial intelligence\u001B[39;49m\u001B[38;5;124;43m'\u001B[39;49m\u001B[43m)\u001B[49m\n",
      "File \u001B[0;32m~/Documents/school/grat-program/getting-started/data.py:210\u001B[0m, in \u001B[0;36mData.makeScatterPlotByTag\u001B[0;34m(self, tag)\u001B[0m\n\u001B[1;32m    207\u001B[0m dates_df \u001B[38;5;241m=\u001B[39m dates_df\u001B[38;5;241m.\u001B[39mgroupby(pd\u001B[38;5;241m.\u001B[39mGrouper(freq\u001B[38;5;241m=\u001B[39m\u001B[38;5;124m'\u001B[39m\u001B[38;5;124mM\u001B[39m\u001B[38;5;124m'\u001B[39m))\u001B[38;5;241m.\u001B[39msum()\u001B[38;5;241m.\u001B[39mto_frame(\u001B[38;5;124m'\u001B[39m\u001B[38;5;124moccurrences\u001B[39m\u001B[38;5;124m'\u001B[39m)\u001B[38;5;241m.\u001B[39mreset_index()\n\u001B[1;32m    209\u001B[0m \u001B[38;5;66;03m# Adding linear regression to the data frame\u001B[39;00m\n\u001B[0;32m--> 210\u001B[0m lr \u001B[38;5;241m=\u001B[39m \u001B[43mnp\u001B[49m\u001B[38;5;241;43m.\u001B[39;49m\u001B[43mpolyfit\u001B[49m\u001B[43m(\u001B[49m\u001B[43mdates_df\u001B[49m\u001B[43m[\u001B[49m\u001B[38;5;124;43m'\u001B[39;49m\u001B[38;5;124;43mdate\u001B[39;49m\u001B[38;5;124;43m'\u001B[39;49m\u001B[43m]\u001B[49m\u001B[43m,\u001B[49m\u001B[43m \u001B[49m\u001B[43mdates_df\u001B[49m\u001B[43m[\u001B[49m\u001B[38;5;124;43m'\u001B[39;49m\u001B[38;5;124;43moccurrences\u001B[39;49m\u001B[38;5;124;43m'\u001B[39;49m\u001B[43m]\u001B[49m\u001B[43m,\u001B[49m\u001B[43m \u001B[49m\u001B[38;5;241;43m1\u001B[39;49m\u001B[43m)\u001B[49m\n\u001B[1;32m    211\u001B[0m trend \u001B[38;5;241m=\u001B[39m np\u001B[38;5;241m.\u001B[39mpolyval(lr, dates_df[\u001B[38;5;124m'\u001B[39m\u001B[38;5;124moccurrences\u001B[39m\u001B[38;5;124m'\u001B[39m])\n\u001B[1;32m    213\u001B[0m \u001B[38;5;66;03m# Plotting the DataFrame\u001B[39;00m\n\u001B[1;32m    214\u001B[0m \u001B[38;5;66;03m# datesPlot = dates_df.plot(kind='scatter', x='date', y='occurrences', figsize=(20, 5))\u001B[39;00m\n\u001B[1;32m    215\u001B[0m \u001B[38;5;66;03m# dates_df.plot(x='date', y=trend)\u001B[39;00m\n",
      "File \u001B[0;32m<__array_function__ internals>:180\u001B[0m, in \u001B[0;36mpolyfit\u001B[0;34m(*args, **kwargs)\u001B[0m\n",
      "File \u001B[0;32m~/Documents/school/grat-program/getting-started/.venv/lib64/python3.10/site-packages/numpy/lib/polynomial.py:629\u001B[0m, in \u001B[0;36mpolyfit\u001B[0;34m(x, y, deg, rcond, full, w, cov)\u001B[0m\n\u001B[1;32m    454\u001B[0m \u001B[38;5;124;03m\"\"\"\u001B[39;00m\n\u001B[1;32m    455\u001B[0m \u001B[38;5;124;03mLeast squares polynomial fit.\u001B[39;00m\n\u001B[1;32m    456\u001B[0m \n\u001B[0;32m   (...)\u001B[0m\n\u001B[1;32m    626\u001B[0m \n\u001B[1;32m    627\u001B[0m \u001B[38;5;124;03m\"\"\"\u001B[39;00m\n\u001B[1;32m    628\u001B[0m order \u001B[38;5;241m=\u001B[39m \u001B[38;5;28mint\u001B[39m(deg) \u001B[38;5;241m+\u001B[39m \u001B[38;5;241m1\u001B[39m\n\u001B[0;32m--> 629\u001B[0m x \u001B[38;5;241m=\u001B[39m \u001B[43mNX\u001B[49m\u001B[38;5;241;43m.\u001B[39;49m\u001B[43masarray\u001B[49m\u001B[43m(\u001B[49m\u001B[43mx\u001B[49m\u001B[43m)\u001B[49m\u001B[43m \u001B[49m\u001B[38;5;241;43m+\u001B[39;49m\u001B[43m \u001B[49m\u001B[38;5;241;43m0.0\u001B[39;49m\n\u001B[1;32m    630\u001B[0m y \u001B[38;5;241m=\u001B[39m NX\u001B[38;5;241m.\u001B[39masarray(y) \u001B[38;5;241m+\u001B[39m \u001B[38;5;241m0.0\u001B[39m\n\u001B[1;32m    632\u001B[0m \u001B[38;5;66;03m# check arguments.\u001B[39;00m\n",
      "\u001B[0;31mUFuncTypeError\u001B[0m: ufunc 'add' cannot use operands with types dtype('<M8[ns]') and dtype('float64')"
     ]
    }
   ],
   "source": [
    "rawData.makeScatterPlotByTag('artificial intelligence')"
   ],
   "metadata": {
    "collapsed": false,
    "pycharm": {
     "name": "#%%\n"
    }
   }
  },
  {
   "cell_type": "code",
   "execution_count": null,
   "outputs": [],
   "source": [
    "tagsList = rawData.getAllTags()\n",
    "tag = 'artificial intelligence'\n",
    "\n",
    "result = tagsList.loc[tagsList.tags == tag]\n",
    "dates = rawData.getDateById(result)\n",
    "\n",
    "dates = [pd.to_datetime(d) for d in dates]\n",
    "dates_df = pd.DataFrame(\n",
    "    {\n",
    "        \"date\": dates\n",
    "    })\n",
    "dates_df = dates_df.groupby(dates_df['date'])\n",
    "\n",
    "dates_df = dates_df.value_counts()\n",
    "dates_df = dates_df.groupby(pd.Grouper(freq='Y')).sum()\n",
    "dates_df.to_frame('occurrences').reset_index()"
   ],
   "metadata": {
    "collapsed": false,
    "pycharm": {
     "name": "#%%\n"
    }
   }
  },
  {
   "cell_type": "code",
   "execution_count": null,
   "outputs": [],
   "source": [],
   "metadata": {
    "collapsed": false,
    "pycharm": {
     "name": "#%%\n"
    }
   }
  }
 ],
 "metadata": {
  "kernelspec": {
   "display_name": "Python 3",
   "language": "python",
   "name": "python3"
  },
  "language_info": {
   "codemirror_mode": {
    "name": "ipython",
    "version": 2
   },
   "file_extension": ".py",
   "mimetype": "text/x-python",
   "name": "python",
   "nbconvert_exporter": "python",
   "pygments_lexer": "ipython2",
   "version": "2.7.6"
  }
 },
 "nbformat": 4,
 "nbformat_minor": 0
}
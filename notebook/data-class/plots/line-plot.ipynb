{
 "cells": [
  {
   "cell_type": "markdown",
   "source": [
    "# <center> Line Graph </center>\n",
    "---"
   ],
   "metadata": {
    "collapsed": false,
    "pycharm": {
     "name": "#%% md\n"
    }
   }
  },
  {
   "cell_type": "markdown",
   "source": [
    "## Importing the data"
   ],
   "metadata": {
    "collapsed": false,
    "pycharm": {
     "name": "#%% md\n"
    }
   }
  },
  {
   "cell_type": "code",
   "execution_count": 1,
   "outputs": [
    {
     "name": "stdout",
     "output_type": "stream",
     "text": [
      "taxnodes:Technology|Information Technology|Artificial Intelligence|Cognitive Science@@semantic-units:arXiv.org\n"
     ]
    }
   ],
   "source": [
    "import data\n",
    "import pandas as pd\n",
    "import matplotlib.pyplot as plt\n",
    "\n",
    "rawData = data.Data()"
   ],
   "metadata": {
    "collapsed": false,
    "pycharm": {
     "name": "#%%\n"
    }
   }
  },
  {
   "cell_type": "code",
   "execution_count": 2,
   "outputs": [
    {
     "ename": "TypeError",
     "evalue": "line() got an unexpected keyword argument 'trendline'",
     "output_type": "error",
     "traceback": [
      "\u001B[0;31m---------------------------------------------------------------------------\u001B[0m",
      "\u001B[0;31mTypeError\u001B[0m                                 Traceback (most recent call last)",
      "Input \u001B[0;32mIn [2]\u001B[0m, in \u001B[0;36m<cell line: 1>\u001B[0;34m()\u001B[0m\n\u001B[0;32m----> 1\u001B[0m \u001B[43mrawData\u001B[49m\u001B[38;5;241;43m.\u001B[39;49m\u001B[43mmakeLineChart\u001B[49m\u001B[43m(\u001B[49m\u001B[38;5;124;43m'\u001B[39;49m\u001B[38;5;124;43martificial intelligence\u001B[39;49m\u001B[38;5;124;43m'\u001B[39;49m\u001B[43m)\u001B[49m\n",
      "File \u001B[0;32m~/Documents/school/grat-program/getting-started/data.py:263\u001B[0m, in \u001B[0;36mData.makeLineChart\u001B[0;34m(self, tag, startDate, endDate)\u001B[0m\n\u001B[1;32m    260\u001B[0m \u001B[38;5;28;01mdef\u001B[39;00m \u001B[38;5;21mmakeLineChart\u001B[39m(\u001B[38;5;28mself\u001B[39m, tag, startDate\u001B[38;5;241m=\u001B[39m\u001B[38;5;28;01mNone\u001B[39;00m, endDate\u001B[38;5;241m=\u001B[39m\u001B[38;5;28;01mNone\u001B[39;00m):\n\u001B[1;32m    261\u001B[0m     dates \u001B[38;5;241m=\u001B[39m \u001B[38;5;28mself\u001B[39m\u001B[38;5;241m.\u001B[39mgetChartData(tag, startDate, endDate)\n\u001B[0;32m--> 263\u001B[0m     figure \u001B[38;5;241m=\u001B[39m \u001B[43mpx\u001B[49m\u001B[38;5;241;43m.\u001B[39;49m\u001B[43mline\u001B[49m\u001B[43m(\u001B[49m\u001B[43mdates\u001B[49m\u001B[43m,\u001B[49m\u001B[43m \u001B[49m\u001B[43mx\u001B[49m\u001B[38;5;241;43m=\u001B[39;49m\u001B[38;5;124;43m'\u001B[39;49m\u001B[38;5;124;43mdate\u001B[39;49m\u001B[38;5;124;43m'\u001B[39;49m\u001B[43m,\u001B[49m\u001B[43m \u001B[49m\u001B[43my\u001B[49m\u001B[38;5;241;43m=\u001B[39;49m\u001B[38;5;124;43m'\u001B[39;49m\u001B[38;5;124;43moccurrences\u001B[39;49m\u001B[38;5;124;43m'\u001B[39;49m\u001B[43m,\u001B[49m\u001B[43m \u001B[49m\u001B[43mtrendline\u001B[49m\u001B[38;5;241;43m=\u001B[39;49m\u001B[38;5;124;43m\"\u001B[39;49m\u001B[38;5;124;43mlowess\u001B[39;49m\u001B[38;5;124;43m\"\u001B[39;49m\u001B[43m)\u001B[49m\n\u001B[1;32m    264\u001B[0m     \u001B[38;5;28;01mreturn\u001B[39;00m figure\n",
      "\u001B[0;31mTypeError\u001B[0m: line() got an unexpected keyword argument 'trendline'"
     ]
    }
   ],
   "source": [
    "rawData.makeLineChart('artificial intelligence')"
   ],
   "metadata": {
    "collapsed": false,
    "pycharm": {
     "name": "#%%\n"
    }
   }
  },
  {
   "cell_type": "markdown",
   "source": [
    "- Look up resample command in pandas and resample by week or month\n",
    "- Pick a few tags and draw on top of each other (*remember ledgend*)"
   ],
   "metadata": {
    "collapsed": false,
    "pycharm": {
     "name": "#%% md\n"
    }
   }
  },
  {
   "cell_type": "markdown",
   "source": [
    "# How do we find meaninful tags?\n",
    "- liner regression for each tag's frequency (read the linear regression)\n",
    "- If $r^2 > 0.7$ then it is increasing or decreasing\n",
    "- What are the most increasing (probally the most and least increasing tags)\n",
    "- Make sure that it is a dramatic increase (not from 0 to 1)\n",
    "- Filter data by time (last 2 months)\n",
    "- make a function that accepts a date range (graph most dramatic rise and most dramatic fall in concept tags)"
   ],
   "metadata": {
    "collapsed": false,
    "pycharm": {
     "name": "#%% md\n"
    }
   }
  },
  {
   "cell_type": "markdown",
   "source": [
    "## Filtering by source\n",
    "- Plot the increase and decrease based on source (change the thing on the filter)\n",
    "    - go to AI topics and look at *theme* filter\n",
    "- are there tags growing in archive.org but noting in the news\n",
    "\n",
    "- Method that takes a search address from ai topics and strips out the things I need to put into my program"
   ],
   "metadata": {
    "collapsed": false,
    "pycharm": {
     "name": "#%% md\n"
    }
   }
  }
 ],
 "metadata": {
  "kernelspec": {
   "display_name": "Python 3",
   "language": "python",
   "name": "python3"
  },
  "language_info": {
   "codemirror_mode": {
    "name": "ipython",
    "version": 2
   },
   "file_extension": ".py",
   "mimetype": "text/x-python",
   "name": "python",
   "nbconvert_exporter": "python",
   "pygments_lexer": "ipython2",
   "version": "2.7.6"
  }
 },
 "nbformat": 4,
 "nbformat_minor": 0
}
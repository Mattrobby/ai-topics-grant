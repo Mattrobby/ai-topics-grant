{
 "cells": [
  {
   "cell_type": "markdown",
   "source": [
    "# <center>Testing Data.py Class</center>\n",
    "---"
   ],
   "metadata": {
    "collapsed": false,
    "pycharm": {
     "name": "#%% md\n"
    }
   }
  },
  {
   "cell_type": "code",
   "execution_count": 1,
   "outputs": [
    {
     "name": "stdout",
     "output_type": "stream",
     "text": [
      "                                      concept-tagsConf                 cdid  \\\n",
      "0    [speech synthesis::15.8903, text-to-speech con...        news:255C6772   \n",
      "1    [artificial intelligence::4.96981, optical cha...        news:9CB90142   \n",
      "2    [human computer interaction::13.1833, artifici...        news:CC811578   \n",
      "3    [air transportation::21.5011, united states go...  technology:750F8D2B   \n",
      "4    [artificial intelligence::11.9895, human compu...        news:FEBFA77E   \n",
      "..                                                 ...                  ...   \n",
      "594  [life sciences::11.7778, information technolog...        news:99808CB9   \n",
      "595  [artificial intelligence::8.49964, prosthese::...        news:32A3EDC0   \n",
      "596  [life sciences::8.67111, artificial intelligen...        news:3C215FAA   \n",
      "597  [artificial intelligence::9.40648, weiss hr::4...        news:D66D96E0   \n",
      "598  [artificial intelligence::26.3768, industrial ...        news:0EF78929   \n",
      "\n",
      "                                          taxnodesConf              modified  \\\n",
      "0    [Technology|Information Technology|Artificial ...  2022-07-20T10:12:51Z   \n",
      "1    [Technology|Information Technology|Artificial ...  2022-07-10T14:43:43Z   \n",
      "2    [Technology|Information Technology|Artificial ...  2022-07-06T13:09:39Z   \n",
      "3    [Technology|Information Technology|Human Compu...  2022-06-28T20:00:34Z   \n",
      "4    [Technology|Information Technology|Human Compu...  2022-06-28T04:00:57Z   \n",
      "..                                                 ...                   ...   \n",
      "594  [Discipline|Life Sciences|Clinical Medicine::0...  2016-03-29T19:45:15Z   \n",
      "595  [Technology|Information Technology|Artificial ...  2016-03-29T07:58:40Z   \n",
      "596  [Discipline|Life Sciences::0.669204, Disciplin...  2016-03-26T15:40:58Z   \n",
      "597  [IPSV|Health, well-being and care|Health::0.69...  2016-03-20T13:01:55Z   \n",
      "598  [Technology|Information Technology|Artificial ...  2016-03-20T12:55:19Z   \n",
      "\n",
      "                                                 title authorsRaw  \n",
      "0    Get a lifetime subscription to an AI text-to-s...        NaN  \n",
      "1    This AI powered text-to-speech tool makes voic...        NaN  \n",
      "2    Process of achieving color and image recogniti...        NaN  \n",
      "3    SpaceX's Starship Super Heavy rocket, which is...        NaN  \n",
      "4    Brain-machine interface helped a man with para...        NaN  \n",
      "..                                                 ...        ...  \n",
      "594  Twitter adds image descriptions to help the vi...        NaN  \n",
      "595            Amputee 'wasted' cash on prosthetic leg        NaN  \n",
      "596           Myo wearable used to control prosthetics        NaN  \n",
      "597           An Exoskeleton Spine Brace for Scoliosis        NaN  \n",
      "598  \\n\\tPanasonic reveals exoskeletons that allow ...        NaN  \n",
      "\n",
      "[599 rows x 6 columns]\n"
     ]
    }
   ],
   "source": [
    "import data\n",
    "import pandas as pd\n",
    "\n",
    "data = data.Data(url='https://aitopics.org/search?fileds=concept-tagsConf%2Ccdid%2CtaxnodesConf%2Cmodified%2CauthorsRaw%2Ctitle&filters=taxnodes:%22Technology%7CInformation%20Technology%7CArtificial%20Intelligence%7CAssistive%20Technologies%22')"
   ],
   "metadata": {
    "collapsed": false,
    "pycharm": {
     "name": "#%%\n"
    }
   }
  },
  {
   "cell_type": "markdown",
   "source": [
    "### Tags"
   ],
   "metadata": {
    "collapsed": false,
    "pycharm": {
     "name": "#%% md\n"
    }
   }
  },
  {
   "cell_type": "code",
   "execution_count": 2,
   "outputs": [
    {
     "data": {
      "text/plain": "                 id                           tags\n0     news:255C6772               speech synthesis\n1     news:255C6772       text-to-speech converter\n2     news:255C6772  optical character recognition\n3     news:255C6772        artificial intelligence\n4     news:255C6772    ai text-to-speech converter\n...             ...                            ...\n6775  news:0EF78929   panasonic reveal exoskeleton\n6776  news:0EF78929                     activelink\n6777  news:0EF78929                physical stress\n6778  news:0EF78929                    exoskeleton\n6779  news:0EF78929                      panasonic\n\n[6780 rows x 2 columns]",
      "text/html": "<div>\n<style scoped>\n    .dataframe tbody tr th:only-of-type {\n        vertical-align: middle;\n    }\n\n    .dataframe tbody tr th {\n        vertical-align: top;\n    }\n\n    .dataframe thead th {\n        text-align: right;\n    }\n</style>\n<table border=\"1\" class=\"dataframe\">\n  <thead>\n    <tr style=\"text-align: right;\">\n      <th></th>\n      <th>id</th>\n      <th>tags</th>\n    </tr>\n  </thead>\n  <tbody>\n    <tr>\n      <th>0</th>\n      <td>news:255C6772</td>\n      <td>speech synthesis</td>\n    </tr>\n    <tr>\n      <th>1</th>\n      <td>news:255C6772</td>\n      <td>text-to-speech converter</td>\n    </tr>\n    <tr>\n      <th>2</th>\n      <td>news:255C6772</td>\n      <td>optical character recognition</td>\n    </tr>\n    <tr>\n      <th>3</th>\n      <td>news:255C6772</td>\n      <td>artificial intelligence</td>\n    </tr>\n    <tr>\n      <th>4</th>\n      <td>news:255C6772</td>\n      <td>ai text-to-speech converter</td>\n    </tr>\n    <tr>\n      <th>...</th>\n      <td>...</td>\n      <td>...</td>\n    </tr>\n    <tr>\n      <th>6775</th>\n      <td>news:0EF78929</td>\n      <td>panasonic reveal exoskeleton</td>\n    </tr>\n    <tr>\n      <th>6776</th>\n      <td>news:0EF78929</td>\n      <td>activelink</td>\n    </tr>\n    <tr>\n      <th>6777</th>\n      <td>news:0EF78929</td>\n      <td>physical stress</td>\n    </tr>\n    <tr>\n      <th>6778</th>\n      <td>news:0EF78929</td>\n      <td>exoskeleton</td>\n    </tr>\n    <tr>\n      <th>6779</th>\n      <td>news:0EF78929</td>\n      <td>panasonic</td>\n    </tr>\n  </tbody>\n</table>\n<p>6780 rows × 2 columns</p>\n</div>"
     },
     "execution_count": 2,
     "metadata": {},
     "output_type": "execute_result"
    }
   ],
   "source": [
    "data.getAllTags()"
   ],
   "metadata": {
    "collapsed": false,
    "pycharm": {
     "name": "#%%\n"
    }
   }
  },
  {
   "cell_type": "markdown",
   "source": [
    "### Cdid"
   ],
   "metadata": {
    "collapsed": false,
    "pycharm": {
     "name": "#%% md\n"
    }
   }
  },
  {
   "cell_type": "code",
   "execution_count": 3,
   "outputs": [
    {
     "data": {
      "text/plain": "0            news:255C6772\n1            news:9CB90142\n2            news:CC811578\n3      technology:750F8D2B\n4            news:FEBFA77E\n              ...         \n594          news:99808CB9\n595          news:32A3EDC0\n596          news:3C215FAA\n597          news:D66D96E0\n598          news:0EF78929\nName: cdid, Length: 599, dtype: object"
     },
     "execution_count": 3,
     "metadata": {},
     "output_type": "execute_result"
    }
   ],
   "source": [
    "data.getAllIds()"
   ],
   "metadata": {
    "collapsed": false,
    "pycharm": {
     "name": "#%%\n"
    }
   }
  },
  {
   "cell_type": "markdown",
   "source": [
    "### TaxNodes\n",
    "use a proper data structure (map)"
   ],
   "metadata": {
    "collapsed": false,
    "pycharm": {
     "name": "#%% md\n"
    }
   }
  },
  {
   "cell_type": "code",
   "execution_count": 4,
   "outputs": [
    {
     "data": {
      "text/plain": "                 id                                           tax-node\n0     news:255C6772  Technology|Information Technology|Artificial I...\n1     news:255C6772  Technology|Information Technology|Artificial I...\n2     news:255C6772  Technology|Information Technology|Artificial I...\n3     news:255C6772  Technology|Information Technology|Artificial I...\n4     news:255C6772                  Technology|Information Technology\n...             ...                                                ...\n6849  news:0EF78929  Technology|Information Technology|Artificial I...\n6850  news:0EF78929                  Technology|Information Technology\n6851  news:0EF78929  Technology|Information Technology|Interfaces|I...\n6852  news:0EF78929       Technology|Information Technology|Interfaces\n6853  news:0EF78929  Technology|Information Technology|Artificial I...\n\n[6854 rows x 2 columns]",
      "text/html": "<div>\n<style scoped>\n    .dataframe tbody tr th:only-of-type {\n        vertical-align: middle;\n    }\n\n    .dataframe tbody tr th {\n        vertical-align: top;\n    }\n\n    .dataframe thead th {\n        text-align: right;\n    }\n</style>\n<table border=\"1\" class=\"dataframe\">\n  <thead>\n    <tr style=\"text-align: right;\">\n      <th></th>\n      <th>id</th>\n      <th>tax-node</th>\n    </tr>\n  </thead>\n  <tbody>\n    <tr>\n      <th>0</th>\n      <td>news:255C6772</td>\n      <td>Technology|Information Technology|Artificial I...</td>\n    </tr>\n    <tr>\n      <th>1</th>\n      <td>news:255C6772</td>\n      <td>Technology|Information Technology|Artificial I...</td>\n    </tr>\n    <tr>\n      <th>2</th>\n      <td>news:255C6772</td>\n      <td>Technology|Information Technology|Artificial I...</td>\n    </tr>\n    <tr>\n      <th>3</th>\n      <td>news:255C6772</td>\n      <td>Technology|Information Technology|Artificial I...</td>\n    </tr>\n    <tr>\n      <th>4</th>\n      <td>news:255C6772</td>\n      <td>Technology|Information Technology</td>\n    </tr>\n    <tr>\n      <th>...</th>\n      <td>...</td>\n      <td>...</td>\n    </tr>\n    <tr>\n      <th>6849</th>\n      <td>news:0EF78929</td>\n      <td>Technology|Information Technology|Artificial I...</td>\n    </tr>\n    <tr>\n      <th>6850</th>\n      <td>news:0EF78929</td>\n      <td>Technology|Information Technology</td>\n    </tr>\n    <tr>\n      <th>6851</th>\n      <td>news:0EF78929</td>\n      <td>Technology|Information Technology|Interfaces|I...</td>\n    </tr>\n    <tr>\n      <th>6852</th>\n      <td>news:0EF78929</td>\n      <td>Technology|Information Technology|Interfaces</td>\n    </tr>\n    <tr>\n      <th>6853</th>\n      <td>news:0EF78929</td>\n      <td>Technology|Information Technology|Artificial I...</td>\n    </tr>\n  </tbody>\n</table>\n<p>6854 rows × 2 columns</p>\n</div>"
     },
     "execution_count": 4,
     "metadata": {},
     "output_type": "execute_result"
    }
   ],
   "source": [
    "data.getAllTaxNodes()"
   ],
   "metadata": {
    "collapsed": false,
    "pycharm": {
     "name": "#%%\n"
    }
   }
  },
  {
   "cell_type": "markdown",
   "source": [
    "### Modified"
   ],
   "metadata": {
    "collapsed": false,
    "pycharm": {
     "name": "#%% md\n"
    }
   }
  },
  {
   "cell_type": "code",
   "execution_count": 5,
   "outputs": [
    {
     "data": {
      "text/plain": "                      id              modified\n0          news:255C6772  2022-07-20T10:12:51Z\n1          news:9CB90142  2022-07-10T14:43:43Z\n2          news:CC811578  2022-07-06T13:09:39Z\n3    technology:750F8D2B  2022-06-28T20:00:34Z\n4          news:FEBFA77E  2022-06-28T04:00:57Z\n..                   ...                   ...\n594        news:99808CB9  2016-03-29T19:45:15Z\n595        news:32A3EDC0  2016-03-29T07:58:40Z\n596        news:3C215FAA  2016-03-26T15:40:58Z\n597        news:D66D96E0  2016-03-20T13:01:55Z\n598        news:0EF78929  2016-03-20T12:55:19Z\n\n[599 rows x 2 columns]",
      "text/html": "<div>\n<style scoped>\n    .dataframe tbody tr th:only-of-type {\n        vertical-align: middle;\n    }\n\n    .dataframe tbody tr th {\n        vertical-align: top;\n    }\n\n    .dataframe thead th {\n        text-align: right;\n    }\n</style>\n<table border=\"1\" class=\"dataframe\">\n  <thead>\n    <tr style=\"text-align: right;\">\n      <th></th>\n      <th>id</th>\n      <th>modified</th>\n    </tr>\n  </thead>\n  <tbody>\n    <tr>\n      <th>0</th>\n      <td>news:255C6772</td>\n      <td>2022-07-20T10:12:51Z</td>\n    </tr>\n    <tr>\n      <th>1</th>\n      <td>news:9CB90142</td>\n      <td>2022-07-10T14:43:43Z</td>\n    </tr>\n    <tr>\n      <th>2</th>\n      <td>news:CC811578</td>\n      <td>2022-07-06T13:09:39Z</td>\n    </tr>\n    <tr>\n      <th>3</th>\n      <td>technology:750F8D2B</td>\n      <td>2022-06-28T20:00:34Z</td>\n    </tr>\n    <tr>\n      <th>4</th>\n      <td>news:FEBFA77E</td>\n      <td>2022-06-28T04:00:57Z</td>\n    </tr>\n    <tr>\n      <th>...</th>\n      <td>...</td>\n      <td>...</td>\n    </tr>\n    <tr>\n      <th>594</th>\n      <td>news:99808CB9</td>\n      <td>2016-03-29T19:45:15Z</td>\n    </tr>\n    <tr>\n      <th>595</th>\n      <td>news:32A3EDC0</td>\n      <td>2016-03-29T07:58:40Z</td>\n    </tr>\n    <tr>\n      <th>596</th>\n      <td>news:3C215FAA</td>\n      <td>2016-03-26T15:40:58Z</td>\n    </tr>\n    <tr>\n      <th>597</th>\n      <td>news:D66D96E0</td>\n      <td>2016-03-20T13:01:55Z</td>\n    </tr>\n    <tr>\n      <th>598</th>\n      <td>news:0EF78929</td>\n      <td>2016-03-20T12:55:19Z</td>\n    </tr>\n  </tbody>\n</table>\n<p>599 rows × 2 columns</p>\n</div>"
     },
     "execution_count": 5,
     "metadata": {},
     "output_type": "execute_result"
    }
   ],
   "source": [
    "data.getAllModified()"
   ],
   "metadata": {
    "collapsed": false,
    "pycharm": {
     "name": "#%%\n"
    }
   }
  },
  {
   "cell_type": "markdown",
   "source": [
    "### Authors"
   ],
   "metadata": {
    "collapsed": false,
    "pycharm": {
     "name": "#%% md\n"
    }
   }
  },
  {
   "cell_type": "code",
   "execution_count": 6,
   "outputs": [
    {
     "data": {
      "text/plain": "                      id                     authors\n0      arxivorg:8BA8C730               Imran, Alishb\n1      arxivorg:8BA8C730             Escobar, Willia\n2      arxivorg:8BA8C730              Barez, Freidoo\n3      arxivorg:34B4E108               Ivaldi, Seren\n4      arxivorg:34B4E108             Maurice, Paulin\n5      arxivorg:34B4E108                Gomes, Walde\n6      arxivorg:34B4E108                Theurel, Jea\n7      arxivorg:34B4E108                Wioland, Liê\n8      arxivorg:34B4E108  Atain-Kouadio, Jean-Jacque\n9      arxivorg:34B4E108             Claudon, Lauren\n10     arxivorg:34B4E108                   Hani, Hin\n11     arxivorg:34B4E108             Kimmoun, Antoin\n12     arxivorg:34B4E108            Sellal, Jean-Mar\n13     arxivorg:34B4E108                  Levy, Brun\n14     arxivorg:34B4E108                Paysant, Jea\n15     arxivorg:34B4E108             Malikov, Sergue\n16     arxivorg:34B4E108               Chenuel, Brun\n17     arxivorg:34B4E108             Settembre, Nicl\n18  conferences:B6B40215      Gondal, Muhammad Walee\n19  conferences:B6B40215             Wuthrich, Manue\n20  conferences:B6B40215         Miladinovic, Djordj\n21  conferences:B6B40215         Locatello, Francesc\n22  conferences:B6B40215               Breidt, Marti\n23  conferences:B6B40215           Volchkov, Valenti\n24  conferences:B6B40215                   Akpo, Joe\n25  conferences:B6B40215              Bachem, Olivie\n26  conferences:B6B40215          Schölkopf, Bernhar\n27  conferences:B6B40215                Bauer, Stefa\n28  conferences:DAEFC153               Pathak, Deepa\n29  conferences:DAEFC153              Lu, Christophe\n30  conferences:DAEFC153              Darrell, Trevo\n31  conferences:DAEFC153               Isola, Philli\n32  conferences:DAEFC153             Efros, Alexei A\n33  conferences:250410B2            Gibiansky, Andre\n34  conferences:250410B2                 Arik, Serca\n35  conferences:250410B2              Diamos, Gregor\n36  conferences:250410B2                 Miller, Joh\n37  conferences:250410B2                 Peng, Kaina\n38  conferences:250410B2                    Ping, We\n39  conferences:250410B2             Raiman, Jonatha\n40  conferences:250410B2                  Zhou, Yanq\n41     arxivorg:68AE891A                Ishwarya, M \n42     arxivorg:68AE891A      Cherukuri, Aswani Kuma",
      "text/html": "<div>\n<style scoped>\n    .dataframe tbody tr th:only-of-type {\n        vertical-align: middle;\n    }\n\n    .dataframe tbody tr th {\n        vertical-align: top;\n    }\n\n    .dataframe thead th {\n        text-align: right;\n    }\n</style>\n<table border=\"1\" class=\"dataframe\">\n  <thead>\n    <tr style=\"text-align: right;\">\n      <th></th>\n      <th>id</th>\n      <th>authors</th>\n    </tr>\n  </thead>\n  <tbody>\n    <tr>\n      <th>0</th>\n      <td>arxivorg:8BA8C730</td>\n      <td>Imran, Alishb</td>\n    </tr>\n    <tr>\n      <th>1</th>\n      <td>arxivorg:8BA8C730</td>\n      <td>Escobar, Willia</td>\n    </tr>\n    <tr>\n      <th>2</th>\n      <td>arxivorg:8BA8C730</td>\n      <td>Barez, Freidoo</td>\n    </tr>\n    <tr>\n      <th>3</th>\n      <td>arxivorg:34B4E108</td>\n      <td>Ivaldi, Seren</td>\n    </tr>\n    <tr>\n      <th>4</th>\n      <td>arxivorg:34B4E108</td>\n      <td>Maurice, Paulin</td>\n    </tr>\n    <tr>\n      <th>5</th>\n      <td>arxivorg:34B4E108</td>\n      <td>Gomes, Walde</td>\n    </tr>\n    <tr>\n      <th>6</th>\n      <td>arxivorg:34B4E108</td>\n      <td>Theurel, Jea</td>\n    </tr>\n    <tr>\n      <th>7</th>\n      <td>arxivorg:34B4E108</td>\n      <td>Wioland, Liê</td>\n    </tr>\n    <tr>\n      <th>8</th>\n      <td>arxivorg:34B4E108</td>\n      <td>Atain-Kouadio, Jean-Jacque</td>\n    </tr>\n    <tr>\n      <th>9</th>\n      <td>arxivorg:34B4E108</td>\n      <td>Claudon, Lauren</td>\n    </tr>\n    <tr>\n      <th>10</th>\n      <td>arxivorg:34B4E108</td>\n      <td>Hani, Hin</td>\n    </tr>\n    <tr>\n      <th>11</th>\n      <td>arxivorg:34B4E108</td>\n      <td>Kimmoun, Antoin</td>\n    </tr>\n    <tr>\n      <th>12</th>\n      <td>arxivorg:34B4E108</td>\n      <td>Sellal, Jean-Mar</td>\n    </tr>\n    <tr>\n      <th>13</th>\n      <td>arxivorg:34B4E108</td>\n      <td>Levy, Brun</td>\n    </tr>\n    <tr>\n      <th>14</th>\n      <td>arxivorg:34B4E108</td>\n      <td>Paysant, Jea</td>\n    </tr>\n    <tr>\n      <th>15</th>\n      <td>arxivorg:34B4E108</td>\n      <td>Malikov, Sergue</td>\n    </tr>\n    <tr>\n      <th>16</th>\n      <td>arxivorg:34B4E108</td>\n      <td>Chenuel, Brun</td>\n    </tr>\n    <tr>\n      <th>17</th>\n      <td>arxivorg:34B4E108</td>\n      <td>Settembre, Nicl</td>\n    </tr>\n    <tr>\n      <th>18</th>\n      <td>conferences:B6B40215</td>\n      <td>Gondal, Muhammad Walee</td>\n    </tr>\n    <tr>\n      <th>19</th>\n      <td>conferences:B6B40215</td>\n      <td>Wuthrich, Manue</td>\n    </tr>\n    <tr>\n      <th>20</th>\n      <td>conferences:B6B40215</td>\n      <td>Miladinovic, Djordj</td>\n    </tr>\n    <tr>\n      <th>21</th>\n      <td>conferences:B6B40215</td>\n      <td>Locatello, Francesc</td>\n    </tr>\n    <tr>\n      <th>22</th>\n      <td>conferences:B6B40215</td>\n      <td>Breidt, Marti</td>\n    </tr>\n    <tr>\n      <th>23</th>\n      <td>conferences:B6B40215</td>\n      <td>Volchkov, Valenti</td>\n    </tr>\n    <tr>\n      <th>24</th>\n      <td>conferences:B6B40215</td>\n      <td>Akpo, Joe</td>\n    </tr>\n    <tr>\n      <th>25</th>\n      <td>conferences:B6B40215</td>\n      <td>Bachem, Olivie</td>\n    </tr>\n    <tr>\n      <th>26</th>\n      <td>conferences:B6B40215</td>\n      <td>Schölkopf, Bernhar</td>\n    </tr>\n    <tr>\n      <th>27</th>\n      <td>conferences:B6B40215</td>\n      <td>Bauer, Stefa</td>\n    </tr>\n    <tr>\n      <th>28</th>\n      <td>conferences:DAEFC153</td>\n      <td>Pathak, Deepa</td>\n    </tr>\n    <tr>\n      <th>29</th>\n      <td>conferences:DAEFC153</td>\n      <td>Lu, Christophe</td>\n    </tr>\n    <tr>\n      <th>30</th>\n      <td>conferences:DAEFC153</td>\n      <td>Darrell, Trevo</td>\n    </tr>\n    <tr>\n      <th>31</th>\n      <td>conferences:DAEFC153</td>\n      <td>Isola, Philli</td>\n    </tr>\n    <tr>\n      <th>32</th>\n      <td>conferences:DAEFC153</td>\n      <td>Efros, Alexei A</td>\n    </tr>\n    <tr>\n      <th>33</th>\n      <td>conferences:250410B2</td>\n      <td>Gibiansky, Andre</td>\n    </tr>\n    <tr>\n      <th>34</th>\n      <td>conferences:250410B2</td>\n      <td>Arik, Serca</td>\n    </tr>\n    <tr>\n      <th>35</th>\n      <td>conferences:250410B2</td>\n      <td>Diamos, Gregor</td>\n    </tr>\n    <tr>\n      <th>36</th>\n      <td>conferences:250410B2</td>\n      <td>Miller, Joh</td>\n    </tr>\n    <tr>\n      <th>37</th>\n      <td>conferences:250410B2</td>\n      <td>Peng, Kaina</td>\n    </tr>\n    <tr>\n      <th>38</th>\n      <td>conferences:250410B2</td>\n      <td>Ping, We</td>\n    </tr>\n    <tr>\n      <th>39</th>\n      <td>conferences:250410B2</td>\n      <td>Raiman, Jonatha</td>\n    </tr>\n    <tr>\n      <th>40</th>\n      <td>conferences:250410B2</td>\n      <td>Zhou, Yanq</td>\n    </tr>\n    <tr>\n      <th>41</th>\n      <td>arxivorg:68AE891A</td>\n      <td>Ishwarya, M</td>\n    </tr>\n    <tr>\n      <th>42</th>\n      <td>arxivorg:68AE891A</td>\n      <td>Cherukuri, Aswani Kuma</td>\n    </tr>\n  </tbody>\n</table>\n</div>"
     },
     "execution_count": 6,
     "metadata": {},
     "output_type": "execute_result"
    }
   ],
   "source": [
    "data.getAllAuthorsRaw()"
   ],
   "metadata": {
    "collapsed": false,
    "pycharm": {
     "name": "#%%\n"
    }
   }
  },
  {
   "cell_type": "markdown",
   "source": [
    "### Title"
   ],
   "metadata": {
    "collapsed": false,
    "pycharm": {
     "name": "#%% md\n"
    }
   }
  },
  {
   "cell_type": "code",
   "execution_count": 7,
   "outputs": [
    {
     "data": {
      "text/plain": "                      id                                              title\n0          news:255C6772  Get a lifetime subscription to an AI text-to-s...\n1          news:9CB90142  This AI powered text-to-speech tool makes voic...\n2          news:CC811578  Process of achieving color and image recogniti...\n3    technology:750F8D2B  SpaceX's Starship Super Heavy rocket, which is...\n4          news:FEBFA77E  Brain-machine interface helped a man with para...\n..                   ...                                                ...\n594        news:99808CB9  Twitter adds image descriptions to help the vi...\n595        news:32A3EDC0            Amputee 'wasted' cash on prosthetic leg\n596        news:3C215FAA           Myo wearable used to control prosthetics\n597        news:D66D96E0           An Exoskeleton Spine Brace for Scoliosis\n598        news:0EF78929  \\n\\tPanasonic reveals exoskeletons that allow ...\n\n[599 rows x 2 columns]",
      "text/html": "<div>\n<style scoped>\n    .dataframe tbody tr th:only-of-type {\n        vertical-align: middle;\n    }\n\n    .dataframe tbody tr th {\n        vertical-align: top;\n    }\n\n    .dataframe thead th {\n        text-align: right;\n    }\n</style>\n<table border=\"1\" class=\"dataframe\">\n  <thead>\n    <tr style=\"text-align: right;\">\n      <th></th>\n      <th>id</th>\n      <th>title</th>\n    </tr>\n  </thead>\n  <tbody>\n    <tr>\n      <th>0</th>\n      <td>news:255C6772</td>\n      <td>Get a lifetime subscription to an AI text-to-s...</td>\n    </tr>\n    <tr>\n      <th>1</th>\n      <td>news:9CB90142</td>\n      <td>This AI powered text-to-speech tool makes voic...</td>\n    </tr>\n    <tr>\n      <th>2</th>\n      <td>news:CC811578</td>\n      <td>Process of achieving color and image recogniti...</td>\n    </tr>\n    <tr>\n      <th>3</th>\n      <td>technology:750F8D2B</td>\n      <td>SpaceX's Starship Super Heavy rocket, which is...</td>\n    </tr>\n    <tr>\n      <th>4</th>\n      <td>news:FEBFA77E</td>\n      <td>Brain-machine interface helped a man with para...</td>\n    </tr>\n    <tr>\n      <th>...</th>\n      <td>...</td>\n      <td>...</td>\n    </tr>\n    <tr>\n      <th>594</th>\n      <td>news:99808CB9</td>\n      <td>Twitter adds image descriptions to help the vi...</td>\n    </tr>\n    <tr>\n      <th>595</th>\n      <td>news:32A3EDC0</td>\n      <td>Amputee 'wasted' cash on prosthetic leg</td>\n    </tr>\n    <tr>\n      <th>596</th>\n      <td>news:3C215FAA</td>\n      <td>Myo wearable used to control prosthetics</td>\n    </tr>\n    <tr>\n      <th>597</th>\n      <td>news:D66D96E0</td>\n      <td>An Exoskeleton Spine Brace for Scoliosis</td>\n    </tr>\n    <tr>\n      <th>598</th>\n      <td>news:0EF78929</td>\n      <td>\\n\\tPanasonic reveals exoskeletons that allow ...</td>\n    </tr>\n  </tbody>\n</table>\n<p>599 rows × 2 columns</p>\n</div>"
     },
     "execution_count": 7,
     "metadata": {},
     "output_type": "execute_result"
    }
   ],
   "source": [
    "data.getAllTitle()"
   ],
   "metadata": {
    "collapsed": false,
    "pycharm": {
     "name": "#%%\n"
    }
   }
  },
  {
   "cell_type": "code",
   "execution_count": 7,
   "outputs": [],
   "source": [],
   "metadata": {
    "collapsed": false,
    "pycharm": {
     "name": "#%%\n"
    }
   }
  }
 ],
 "metadata": {
  "kernelspec": {
   "display_name": "Python 3",
   "language": "python",
   "name": "python3"
  },
  "language_info": {
   "codemirror_mode": {
    "name": "ipython",
    "version": 2
   },
   "file_extension": ".py",
   "mimetype": "text/x-python",
   "name": "python",
   "nbconvert_exporter": "python",
   "pygments_lexer": "ipython2",
   "version": "2.7.6"
  }
 },
 "nbformat": 4,
 "nbformat_minor": 0
}
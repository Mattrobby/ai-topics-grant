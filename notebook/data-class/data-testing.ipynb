{
 "cells": [
  {
   "cell_type": "markdown",
   "source": [
    "# <center>Testing Data.py Class</center>\n",
    "---"
   ],
   "metadata": {
    "collapsed": false,
    "pycharm": {
     "name": "#%% md\n"
    }
   }
  },
  {
   "cell_type": "code",
   "execution_count": 1,
   "outputs": [],
   "source": [
    "import data\n",
    "import pandas as pd\n",
    "\n",
    "rawData = data.Data(filters='taxnodes:Technology|Information Technology|Artificial Intelligence|Assistive Technologies')"
   ],
   "metadata": {
    "collapsed": false,
    "pycharm": {
     "name": "#%%\n"
    }
   }
  },
  {
   "cell_type": "markdown",
   "source": [
    "### Tags"
   ],
   "metadata": {
    "collapsed": false,
    "pycharm": {
     "name": "#%% md\n"
    }
   }
  },
  {
   "cell_type": "code",
   "execution_count": 2,
   "outputs": [
    {
     "data": {
      "text/plain": "                 id                           tags\n0     news:255C6772               speech synthesis\n1     news:255C6772       text-to-speech converter\n2     news:255C6772  optical character recognition\n3     news:255C6772        artificial intelligence\n4     news:255C6772    ai text-to-speech converter\n...             ...                            ...\n6768  news:0EF78929   panasonic reveal exoskeleton\n6769  news:0EF78929                     activelink\n6770  news:0EF78929                physical stress\n6771  news:0EF78929                    exoskeleton\n6772  news:0EF78929                      panasonic\n\n[6773 rows x 2 columns]",
      "text/html": "<div>\n<style scoped>\n    .dataframe tbody tr th:only-of-type {\n        vertical-align: middle;\n    }\n\n    .dataframe tbody tr th {\n        vertical-align: top;\n    }\n\n    .dataframe thead th {\n        text-align: right;\n    }\n</style>\n<table border=\"1\" class=\"dataframe\">\n  <thead>\n    <tr style=\"text-align: right;\">\n      <th></th>\n      <th>id</th>\n      <th>tags</th>\n    </tr>\n  </thead>\n  <tbody>\n    <tr>\n      <th>0</th>\n      <td>news:255C6772</td>\n      <td>speech synthesis</td>\n    </tr>\n    <tr>\n      <th>1</th>\n      <td>news:255C6772</td>\n      <td>text-to-speech converter</td>\n    </tr>\n    <tr>\n      <th>2</th>\n      <td>news:255C6772</td>\n      <td>optical character recognition</td>\n    </tr>\n    <tr>\n      <th>3</th>\n      <td>news:255C6772</td>\n      <td>artificial intelligence</td>\n    </tr>\n    <tr>\n      <th>4</th>\n      <td>news:255C6772</td>\n      <td>ai text-to-speech converter</td>\n    </tr>\n    <tr>\n      <th>...</th>\n      <td>...</td>\n      <td>...</td>\n    </tr>\n    <tr>\n      <th>6768</th>\n      <td>news:0EF78929</td>\n      <td>panasonic reveal exoskeleton</td>\n    </tr>\n    <tr>\n      <th>6769</th>\n      <td>news:0EF78929</td>\n      <td>activelink</td>\n    </tr>\n    <tr>\n      <th>6770</th>\n      <td>news:0EF78929</td>\n      <td>physical stress</td>\n    </tr>\n    <tr>\n      <th>6771</th>\n      <td>news:0EF78929</td>\n      <td>exoskeleton</td>\n    </tr>\n    <tr>\n      <th>6772</th>\n      <td>news:0EF78929</td>\n      <td>panasonic</td>\n    </tr>\n  </tbody>\n</table>\n<p>6773 rows × 2 columns</p>\n</div>"
     },
     "execution_count": 2,
     "metadata": {},
     "output_type": "execute_result"
    }
   ],
   "source": [
    "rawData.getAllTags()"
   ],
   "metadata": {
    "collapsed": false,
    "pycharm": {
     "name": "#%%\n"
    }
   }
  },
  {
   "cell_type": "markdown",
   "source": [
    "### Cdid"
   ],
   "metadata": {
    "collapsed": false,
    "pycharm": {
     "name": "#%% md\n"
    }
   }
  },
  {
   "cell_type": "code",
   "execution_count": 3,
   "outputs": [
    {
     "data": {
      "text/plain": "0            news:255C6772\n1            news:9CB90142\n2      technology:750F8D2B\n3            news:FEBFA77E\n4            news:089FB49F\n              ...         \n593          news:99808CB9\n594          news:32A3EDC0\n595          news:3C215FAA\n596          news:D66D96E0\n597          news:0EF78929\nName: cdid, Length: 598, dtype: object"
     },
     "execution_count": 3,
     "metadata": {},
     "output_type": "execute_result"
    }
   ],
   "source": [
    "rawData.getAllIds()"
   ],
   "metadata": {
    "collapsed": false,
    "pycharm": {
     "name": "#%%\n"
    }
   }
  },
  {
   "cell_type": "markdown",
   "source": [
    "### TaxNodes\n",
    "use a proper data structure (map)"
   ],
   "metadata": {
    "collapsed": false,
    "pycharm": {
     "name": "#%% md\n"
    }
   }
  },
  {
   "cell_type": "code",
   "execution_count": 4,
   "outputs": [
    {
     "data": {
      "text/plain": "                 id                                           tax-node\n0     news:255C6772  Technology|Information Technology|Artificial I...\n1     news:255C6772  Technology|Information Technology|Artificial I...\n2     news:255C6772  Technology|Information Technology|Artificial I...\n3     news:255C6772  Technology|Information Technology|Artificial I...\n4     news:255C6772                  Technology|Information Technology\n...             ...                                                ...\n6838  news:0EF78929  Technology|Information Technology|Artificial I...\n6839  news:0EF78929                  Technology|Information Technology\n6840  news:0EF78929  Technology|Information Technology|Interfaces|I...\n6841  news:0EF78929       Technology|Information Technology|Interfaces\n6842  news:0EF78929  Technology|Information Technology|Artificial I...\n\n[6843 rows x 2 columns]",
      "text/html": "<div>\n<style scoped>\n    .dataframe tbody tr th:only-of-type {\n        vertical-align: middle;\n    }\n\n    .dataframe tbody tr th {\n        vertical-align: top;\n    }\n\n    .dataframe thead th {\n        text-align: right;\n    }\n</style>\n<table border=\"1\" class=\"dataframe\">\n  <thead>\n    <tr style=\"text-align: right;\">\n      <th></th>\n      <th>id</th>\n      <th>tax-node</th>\n    </tr>\n  </thead>\n  <tbody>\n    <tr>\n      <th>0</th>\n      <td>news:255C6772</td>\n      <td>Technology|Information Technology|Artificial I...</td>\n    </tr>\n    <tr>\n      <th>1</th>\n      <td>news:255C6772</td>\n      <td>Technology|Information Technology|Artificial I...</td>\n    </tr>\n    <tr>\n      <th>2</th>\n      <td>news:255C6772</td>\n      <td>Technology|Information Technology|Artificial I...</td>\n    </tr>\n    <tr>\n      <th>3</th>\n      <td>news:255C6772</td>\n      <td>Technology|Information Technology|Artificial I...</td>\n    </tr>\n    <tr>\n      <th>4</th>\n      <td>news:255C6772</td>\n      <td>Technology|Information Technology</td>\n    </tr>\n    <tr>\n      <th>...</th>\n      <td>...</td>\n      <td>...</td>\n    </tr>\n    <tr>\n      <th>6838</th>\n      <td>news:0EF78929</td>\n      <td>Technology|Information Technology|Artificial I...</td>\n    </tr>\n    <tr>\n      <th>6839</th>\n      <td>news:0EF78929</td>\n      <td>Technology|Information Technology</td>\n    </tr>\n    <tr>\n      <th>6840</th>\n      <td>news:0EF78929</td>\n      <td>Technology|Information Technology|Interfaces|I...</td>\n    </tr>\n    <tr>\n      <th>6841</th>\n      <td>news:0EF78929</td>\n      <td>Technology|Information Technology|Interfaces</td>\n    </tr>\n    <tr>\n      <th>6842</th>\n      <td>news:0EF78929</td>\n      <td>Technology|Information Technology|Artificial I...</td>\n    </tr>\n  </tbody>\n</table>\n<p>6843 rows × 2 columns</p>\n</div>"
     },
     "execution_count": 4,
     "metadata": {},
     "output_type": "execute_result"
    }
   ],
   "source": [
    "rawData.getAllTaxNodes()"
   ],
   "metadata": {
    "collapsed": false,
    "pycharm": {
     "name": "#%%\n"
    }
   }
  },
  {
   "cell_type": "markdown",
   "source": [
    "### Dates"
   ],
   "metadata": {
    "collapsed": false,
    "pycharm": {
     "name": "#%% md\n"
    }
   }
  },
  {
   "cell_type": "code",
   "execution_count": 6,
   "outputs": [
    {
     "data": {
      "text/plain": "                      id              modified\n0          news:255C6772  2022-07-20T10:12:51Z\n1          news:9CB90142  2022-07-10T14:43:43Z\n2    technology:750F8D2B  2022-06-28T20:00:34Z\n3          news:FEBFA77E  2022-06-28T04:00:57Z\n4          news:089FB49F  2022-06-27T19:41:55Z\n..                   ...                   ...\n593        news:99808CB9  2016-03-29T19:45:15Z\n594        news:32A3EDC0  2016-03-29T07:58:40Z\n595        news:3C215FAA  2016-03-26T15:40:58Z\n596        news:D66D96E0  2016-03-20T13:01:55Z\n597        news:0EF78929  2016-03-20T12:55:19Z\n\n[598 rows x 2 columns]",
      "text/html": "<div>\n<style scoped>\n    .dataframe tbody tr th:only-of-type {\n        vertical-align: middle;\n    }\n\n    .dataframe tbody tr th {\n        vertical-align: top;\n    }\n\n    .dataframe thead th {\n        text-align: right;\n    }\n</style>\n<table border=\"1\" class=\"dataframe\">\n  <thead>\n    <tr style=\"text-align: right;\">\n      <th></th>\n      <th>id</th>\n      <th>modified</th>\n    </tr>\n  </thead>\n  <tbody>\n    <tr>\n      <th>0</th>\n      <td>news:255C6772</td>\n      <td>2022-07-20T10:12:51Z</td>\n    </tr>\n    <tr>\n      <th>1</th>\n      <td>news:9CB90142</td>\n      <td>2022-07-10T14:43:43Z</td>\n    </tr>\n    <tr>\n      <th>2</th>\n      <td>technology:750F8D2B</td>\n      <td>2022-06-28T20:00:34Z</td>\n    </tr>\n    <tr>\n      <th>3</th>\n      <td>news:FEBFA77E</td>\n      <td>2022-06-28T04:00:57Z</td>\n    </tr>\n    <tr>\n      <th>4</th>\n      <td>news:089FB49F</td>\n      <td>2022-06-27T19:41:55Z</td>\n    </tr>\n    <tr>\n      <th>...</th>\n      <td>...</td>\n      <td>...</td>\n    </tr>\n    <tr>\n      <th>593</th>\n      <td>news:99808CB9</td>\n      <td>2016-03-29T19:45:15Z</td>\n    </tr>\n    <tr>\n      <th>594</th>\n      <td>news:32A3EDC0</td>\n      <td>2016-03-29T07:58:40Z</td>\n    </tr>\n    <tr>\n      <th>595</th>\n      <td>news:3C215FAA</td>\n      <td>2016-03-26T15:40:58Z</td>\n    </tr>\n    <tr>\n      <th>596</th>\n      <td>news:D66D96E0</td>\n      <td>2016-03-20T13:01:55Z</td>\n    </tr>\n    <tr>\n      <th>597</th>\n      <td>news:0EF78929</td>\n      <td>2016-03-20T12:55:19Z</td>\n    </tr>\n  </tbody>\n</table>\n<p>598 rows × 2 columns</p>\n</div>"
     },
     "execution_count": 6,
     "metadata": {},
     "output_type": "execute_result"
    }
   ],
   "source": [
    "rawData.getAllDates()"
   ],
   "metadata": {
    "collapsed": false,
    "pycharm": {
     "name": "#%%\n"
    }
   }
  },
  {
   "cell_type": "markdown",
   "source": [
    "### Authors"
   ],
   "metadata": {
    "collapsed": false,
    "pycharm": {
     "name": "#%% md\n"
    }
   }
  },
  {
   "cell_type": "code",
   "execution_count": 7,
   "outputs": [
    {
     "data": {
      "text/plain": "                      id                     authors\n0      arxivorg:8BA8C730               Imran, Alishb\n1      arxivorg:8BA8C730             Escobar, Willia\n2      arxivorg:8BA8C730              Barez, Freidoo\n3      arxivorg:34B4E108               Ivaldi, Seren\n4      arxivorg:34B4E108             Maurice, Paulin\n5      arxivorg:34B4E108                Gomes, Walde\n6      arxivorg:34B4E108                Theurel, Jea\n7      arxivorg:34B4E108                Wioland, Liê\n8      arxivorg:34B4E108  Atain-Kouadio, Jean-Jacque\n9      arxivorg:34B4E108             Claudon, Lauren\n10     arxivorg:34B4E108                   Hani, Hin\n11     arxivorg:34B4E108             Kimmoun, Antoin\n12     arxivorg:34B4E108            Sellal, Jean-Mar\n13     arxivorg:34B4E108                  Levy, Brun\n14     arxivorg:34B4E108                Paysant, Jea\n15     arxivorg:34B4E108             Malikov, Sergue\n16     arxivorg:34B4E108               Chenuel, Brun\n17     arxivorg:34B4E108             Settembre, Nicl\n18  conferences:B6B40215      Gondal, Muhammad Walee\n19  conferences:B6B40215             Wuthrich, Manue\n20  conferences:B6B40215         Miladinovic, Djordj\n21  conferences:B6B40215         Locatello, Francesc\n22  conferences:B6B40215               Breidt, Marti\n23  conferences:B6B40215           Volchkov, Valenti\n24  conferences:B6B40215                   Akpo, Joe\n25  conferences:B6B40215              Bachem, Olivie\n26  conferences:B6B40215          Schölkopf, Bernhar\n27  conferences:B6B40215                Bauer, Stefa\n28  conferences:DAEFC153               Pathak, Deepa\n29  conferences:DAEFC153              Lu, Christophe\n30  conferences:DAEFC153              Darrell, Trevo\n31  conferences:DAEFC153               Isola, Philli\n32  conferences:DAEFC153             Efros, Alexei A\n33  conferences:250410B2            Gibiansky, Andre\n34  conferences:250410B2                 Arik, Serca\n35  conferences:250410B2              Diamos, Gregor\n36  conferences:250410B2                 Miller, Joh\n37  conferences:250410B2                 Peng, Kaina\n38  conferences:250410B2                    Ping, We\n39  conferences:250410B2             Raiman, Jonatha\n40  conferences:250410B2                  Zhou, Yanq\n41     arxivorg:68AE891A                Ishwarya, M \n42     arxivorg:68AE891A      Cherukuri, Aswani Kuma",
      "text/html": "<div>\n<style scoped>\n    .dataframe tbody tr th:only-of-type {\n        vertical-align: middle;\n    }\n\n    .dataframe tbody tr th {\n        vertical-align: top;\n    }\n\n    .dataframe thead th {\n        text-align: right;\n    }\n</style>\n<table border=\"1\" class=\"dataframe\">\n  <thead>\n    <tr style=\"text-align: right;\">\n      <th></th>\n      <th>id</th>\n      <th>authors</th>\n    </tr>\n  </thead>\n  <tbody>\n    <tr>\n      <th>0</th>\n      <td>arxivorg:8BA8C730</td>\n      <td>Imran, Alishb</td>\n    </tr>\n    <tr>\n      <th>1</th>\n      <td>arxivorg:8BA8C730</td>\n      <td>Escobar, Willia</td>\n    </tr>\n    <tr>\n      <th>2</th>\n      <td>arxivorg:8BA8C730</td>\n      <td>Barez, Freidoo</td>\n    </tr>\n    <tr>\n      <th>3</th>\n      <td>arxivorg:34B4E108</td>\n      <td>Ivaldi, Seren</td>\n    </tr>\n    <tr>\n      <th>4</th>\n      <td>arxivorg:34B4E108</td>\n      <td>Maurice, Paulin</td>\n    </tr>\n    <tr>\n      <th>5</th>\n      <td>arxivorg:34B4E108</td>\n      <td>Gomes, Walde</td>\n    </tr>\n    <tr>\n      <th>6</th>\n      <td>arxivorg:34B4E108</td>\n      <td>Theurel, Jea</td>\n    </tr>\n    <tr>\n      <th>7</th>\n      <td>arxivorg:34B4E108</td>\n      <td>Wioland, Liê</td>\n    </tr>\n    <tr>\n      <th>8</th>\n      <td>arxivorg:34B4E108</td>\n      <td>Atain-Kouadio, Jean-Jacque</td>\n    </tr>\n    <tr>\n      <th>9</th>\n      <td>arxivorg:34B4E108</td>\n      <td>Claudon, Lauren</td>\n    </tr>\n    <tr>\n      <th>10</th>\n      <td>arxivorg:34B4E108</td>\n      <td>Hani, Hin</td>\n    </tr>\n    <tr>\n      <th>11</th>\n      <td>arxivorg:34B4E108</td>\n      <td>Kimmoun, Antoin</td>\n    </tr>\n    <tr>\n      <th>12</th>\n      <td>arxivorg:34B4E108</td>\n      <td>Sellal, Jean-Mar</td>\n    </tr>\n    <tr>\n      <th>13</th>\n      <td>arxivorg:34B4E108</td>\n      <td>Levy, Brun</td>\n    </tr>\n    <tr>\n      <th>14</th>\n      <td>arxivorg:34B4E108</td>\n      <td>Paysant, Jea</td>\n    </tr>\n    <tr>\n      <th>15</th>\n      <td>arxivorg:34B4E108</td>\n      <td>Malikov, Sergue</td>\n    </tr>\n    <tr>\n      <th>16</th>\n      <td>arxivorg:34B4E108</td>\n      <td>Chenuel, Brun</td>\n    </tr>\n    <tr>\n      <th>17</th>\n      <td>arxivorg:34B4E108</td>\n      <td>Settembre, Nicl</td>\n    </tr>\n    <tr>\n      <th>18</th>\n      <td>conferences:B6B40215</td>\n      <td>Gondal, Muhammad Walee</td>\n    </tr>\n    <tr>\n      <th>19</th>\n      <td>conferences:B6B40215</td>\n      <td>Wuthrich, Manue</td>\n    </tr>\n    <tr>\n      <th>20</th>\n      <td>conferences:B6B40215</td>\n      <td>Miladinovic, Djordj</td>\n    </tr>\n    <tr>\n      <th>21</th>\n      <td>conferences:B6B40215</td>\n      <td>Locatello, Francesc</td>\n    </tr>\n    <tr>\n      <th>22</th>\n      <td>conferences:B6B40215</td>\n      <td>Breidt, Marti</td>\n    </tr>\n    <tr>\n      <th>23</th>\n      <td>conferences:B6B40215</td>\n      <td>Volchkov, Valenti</td>\n    </tr>\n    <tr>\n      <th>24</th>\n      <td>conferences:B6B40215</td>\n      <td>Akpo, Joe</td>\n    </tr>\n    <tr>\n      <th>25</th>\n      <td>conferences:B6B40215</td>\n      <td>Bachem, Olivie</td>\n    </tr>\n    <tr>\n      <th>26</th>\n      <td>conferences:B6B40215</td>\n      <td>Schölkopf, Bernhar</td>\n    </tr>\n    <tr>\n      <th>27</th>\n      <td>conferences:B6B40215</td>\n      <td>Bauer, Stefa</td>\n    </tr>\n    <tr>\n      <th>28</th>\n      <td>conferences:DAEFC153</td>\n      <td>Pathak, Deepa</td>\n    </tr>\n    <tr>\n      <th>29</th>\n      <td>conferences:DAEFC153</td>\n      <td>Lu, Christophe</td>\n    </tr>\n    <tr>\n      <th>30</th>\n      <td>conferences:DAEFC153</td>\n      <td>Darrell, Trevo</td>\n    </tr>\n    <tr>\n      <th>31</th>\n      <td>conferences:DAEFC153</td>\n      <td>Isola, Philli</td>\n    </tr>\n    <tr>\n      <th>32</th>\n      <td>conferences:DAEFC153</td>\n      <td>Efros, Alexei A</td>\n    </tr>\n    <tr>\n      <th>33</th>\n      <td>conferences:250410B2</td>\n      <td>Gibiansky, Andre</td>\n    </tr>\n    <tr>\n      <th>34</th>\n      <td>conferences:250410B2</td>\n      <td>Arik, Serca</td>\n    </tr>\n    <tr>\n      <th>35</th>\n      <td>conferences:250410B2</td>\n      <td>Diamos, Gregor</td>\n    </tr>\n    <tr>\n      <th>36</th>\n      <td>conferences:250410B2</td>\n      <td>Miller, Joh</td>\n    </tr>\n    <tr>\n      <th>37</th>\n      <td>conferences:250410B2</td>\n      <td>Peng, Kaina</td>\n    </tr>\n    <tr>\n      <th>38</th>\n      <td>conferences:250410B2</td>\n      <td>Ping, We</td>\n    </tr>\n    <tr>\n      <th>39</th>\n      <td>conferences:250410B2</td>\n      <td>Raiman, Jonatha</td>\n    </tr>\n    <tr>\n      <th>40</th>\n      <td>conferences:250410B2</td>\n      <td>Zhou, Yanq</td>\n    </tr>\n    <tr>\n      <th>41</th>\n      <td>arxivorg:68AE891A</td>\n      <td>Ishwarya, M</td>\n    </tr>\n    <tr>\n      <th>42</th>\n      <td>arxivorg:68AE891A</td>\n      <td>Cherukuri, Aswani Kuma</td>\n    </tr>\n  </tbody>\n</table>\n</div>"
     },
     "execution_count": 7,
     "metadata": {},
     "output_type": "execute_result"
    }
   ],
   "source": [
    "rawData.getAllAuthorsRaw()"
   ],
   "metadata": {
    "collapsed": false,
    "pycharm": {
     "name": "#%%\n"
    }
   }
  },
  {
   "cell_type": "markdown",
   "source": [
    "### Title"
   ],
   "metadata": {
    "collapsed": false,
    "pycharm": {
     "name": "#%% md\n"
    }
   }
  },
  {
   "cell_type": "code",
   "execution_count": 8,
   "outputs": [
    {
     "data": {
      "text/plain": "                      id                                              title\n0          news:255C6772  Get a lifetime subscription to an AI text-to-s...\n1          news:9CB90142  This AI powered text-to-speech tool makes voic...\n2    technology:750F8D2B  SpaceX's Starship Super Heavy rocket, which is...\n3          news:FEBFA77E  Brain-machine interface helped a man with para...\n4          news:089FB49F  How Machine Learning-Enabled Prosthetic Limbs ...\n..                   ...                                                ...\n593        news:99808CB9  Twitter adds image descriptions to help the vi...\n594        news:32A3EDC0            Amputee 'wasted' cash on prosthetic leg\n595        news:3C215FAA           Myo wearable used to control prosthetics\n596        news:D66D96E0           An Exoskeleton Spine Brace for Scoliosis\n597        news:0EF78929  \\n\\tPanasonic reveals exoskeletons that allow ...\n\n[598 rows x 2 columns]",
      "text/html": "<div>\n<style scoped>\n    .dataframe tbody tr th:only-of-type {\n        vertical-align: middle;\n    }\n\n    .dataframe tbody tr th {\n        vertical-align: top;\n    }\n\n    .dataframe thead th {\n        text-align: right;\n    }\n</style>\n<table border=\"1\" class=\"dataframe\">\n  <thead>\n    <tr style=\"text-align: right;\">\n      <th></th>\n      <th>id</th>\n      <th>title</th>\n    </tr>\n  </thead>\n  <tbody>\n    <tr>\n      <th>0</th>\n      <td>news:255C6772</td>\n      <td>Get a lifetime subscription to an AI text-to-s...</td>\n    </tr>\n    <tr>\n      <th>1</th>\n      <td>news:9CB90142</td>\n      <td>This AI powered text-to-speech tool makes voic...</td>\n    </tr>\n    <tr>\n      <th>2</th>\n      <td>technology:750F8D2B</td>\n      <td>SpaceX's Starship Super Heavy rocket, which is...</td>\n    </tr>\n    <tr>\n      <th>3</th>\n      <td>news:FEBFA77E</td>\n      <td>Brain-machine interface helped a man with para...</td>\n    </tr>\n    <tr>\n      <th>4</th>\n      <td>news:089FB49F</td>\n      <td>How Machine Learning-Enabled Prosthetic Limbs ...</td>\n    </tr>\n    <tr>\n      <th>...</th>\n      <td>...</td>\n      <td>...</td>\n    </tr>\n    <tr>\n      <th>593</th>\n      <td>news:99808CB9</td>\n      <td>Twitter adds image descriptions to help the vi...</td>\n    </tr>\n    <tr>\n      <th>594</th>\n      <td>news:32A3EDC0</td>\n      <td>Amputee 'wasted' cash on prosthetic leg</td>\n    </tr>\n    <tr>\n      <th>595</th>\n      <td>news:3C215FAA</td>\n      <td>Myo wearable used to control prosthetics</td>\n    </tr>\n    <tr>\n      <th>596</th>\n      <td>news:D66D96E0</td>\n      <td>An Exoskeleton Spine Brace for Scoliosis</td>\n    </tr>\n    <tr>\n      <th>597</th>\n      <td>news:0EF78929</td>\n      <td>\\n\\tPanasonic reveals exoskeletons that allow ...</td>\n    </tr>\n  </tbody>\n</table>\n<p>598 rows × 2 columns</p>\n</div>"
     },
     "execution_count": 8,
     "metadata": {},
     "output_type": "execute_result"
    }
   ],
   "source": [
    "rawData.getAllTitle()"
   ],
   "metadata": {
    "collapsed": false,
    "pycharm": {
     "name": "#%%\n"
    }
   }
  },
  {
   "cell_type": "code",
   "execution_count": 9,
   "outputs": [
    {
     "data": {
      "text/plain": "         date  occurrences                   target\n0  2016-03-31            5  artificial intelligence\n1  2016-04-30           13  artificial intelligence\n2  2016-05-31            9  artificial intelligence\n3  2016-06-30           18  artificial intelligence\n4  2016-07-31            8  artificial intelligence\n..        ...          ...                      ...\n72 2022-03-31            4  artificial intelligence\n73 2022-04-30            5  artificial intelligence\n74 2022-05-31            5  artificial intelligence\n75 2022-06-30            9  artificial intelligence\n76 2022-07-31            2  artificial intelligence\n\n[77 rows x 3 columns]",
      "text/html": "<div>\n<style scoped>\n    .dataframe tbody tr th:only-of-type {\n        vertical-align: middle;\n    }\n\n    .dataframe tbody tr th {\n        vertical-align: top;\n    }\n\n    .dataframe thead th {\n        text-align: right;\n    }\n</style>\n<table border=\"1\" class=\"dataframe\">\n  <thead>\n    <tr style=\"text-align: right;\">\n      <th></th>\n      <th>date</th>\n      <th>occurrences</th>\n      <th>target</th>\n    </tr>\n  </thead>\n  <tbody>\n    <tr>\n      <th>0</th>\n      <td>2016-03-31</td>\n      <td>5</td>\n      <td>artificial intelligence</td>\n    </tr>\n    <tr>\n      <th>1</th>\n      <td>2016-04-30</td>\n      <td>13</td>\n      <td>artificial intelligence</td>\n    </tr>\n    <tr>\n      <th>2</th>\n      <td>2016-05-31</td>\n      <td>9</td>\n      <td>artificial intelligence</td>\n    </tr>\n    <tr>\n      <th>3</th>\n      <td>2016-06-30</td>\n      <td>18</td>\n      <td>artificial intelligence</td>\n    </tr>\n    <tr>\n      <th>4</th>\n      <td>2016-07-31</td>\n      <td>8</td>\n      <td>artificial intelligence</td>\n    </tr>\n    <tr>\n      <th>...</th>\n      <td>...</td>\n      <td>...</td>\n      <td>...</td>\n    </tr>\n    <tr>\n      <th>72</th>\n      <td>2022-03-31</td>\n      <td>4</td>\n      <td>artificial intelligence</td>\n    </tr>\n    <tr>\n      <th>73</th>\n      <td>2022-04-30</td>\n      <td>5</td>\n      <td>artificial intelligence</td>\n    </tr>\n    <tr>\n      <th>74</th>\n      <td>2022-05-31</td>\n      <td>5</td>\n      <td>artificial intelligence</td>\n    </tr>\n    <tr>\n      <th>75</th>\n      <td>2022-06-30</td>\n      <td>9</td>\n      <td>artificial intelligence</td>\n    </tr>\n    <tr>\n      <th>76</th>\n      <td>2022-07-31</td>\n      <td>2</td>\n      <td>artificial intelligence</td>\n    </tr>\n  </tbody>\n</table>\n<p>77 rows × 3 columns</p>\n</div>"
     },
     "execution_count": 9,
     "metadata": {},
     "output_type": "execute_result"
    }
   ],
   "source": [
    "plot_data = rawData.getPlotDataByDate(rawData.getAllTags(), 'artificial intelligence')\n",
    "plot_data"
   ],
   "metadata": {
    "collapsed": false,
    "pycharm": {
     "name": "#%%\n"
    }
   }
  },
  {
   "cell_type": "code",
   "execution_count": 16,
   "outputs": [
    {
     "data": {
      "text/plain": "pandas.core.series.Series"
     },
     "execution_count": 16,
     "metadata": {},
     "output_type": "execute_result"
    }
   ],
   "source": [
    "type(plot_data['occurrences'].sum())"
   ],
   "metadata": {
    "collapsed": false,
    "pycharm": {
     "name": "#%%\n"
    }
   }
  },
  {
   "cell_type": "code",
   "execution_count": null,
   "outputs": [],
   "source": [],
   "metadata": {
    "collapsed": false,
    "pycharm": {
     "name": "#%%\n"
    }
   }
  }
 ],
 "metadata": {
  "kernelspec": {
   "display_name": "Python 3",
   "language": "python",
   "name": "python3"
  },
  "language_info": {
   "codemirror_mode": {
    "name": "ipython",
    "version": 2
   },
   "file_extension": ".py",
   "mimetype": "text/x-python",
   "name": "python",
   "nbconvert_exporter": "python",
   "pygments_lexer": "ipython2",
   "version": "2.7.6"
  }
 },
 "nbformat": 4,
 "nbformat_minor": 0
}
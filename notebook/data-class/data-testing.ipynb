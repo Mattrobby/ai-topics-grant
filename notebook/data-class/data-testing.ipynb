{
 "cells": [
  {
   "cell_type": "markdown",
   "source": [
    "# <center>Testing Data.py Class</center>\n",
    "---"
   ],
   "metadata": {
    "collapsed": false,
    "pycharm": {
     "name": "#%% md\n"
    }
   }
  },
  {
   "cell_type": "code",
   "execution_count": 1,
   "outputs": [],
   "source": [
    "import data\n",
    "import pandas as pd\n",
    "\n",
    "rawData = data.Data()"
   ],
   "metadata": {
    "collapsed": false,
    "pycharm": {
     "name": "#%%\n"
    }
   }
  },
  {
   "cell_type": "markdown",
   "source": [
    "### Tags"
   ],
   "metadata": {
    "collapsed": false,
    "pycharm": {
     "name": "#%% md\n"
    }
   }
  },
  {
   "cell_type": "code",
   "execution_count": 2,
   "outputs": [
    {
     "data": {
      "text/plain": "                   id                       tags\n0   arxivorg:CBBFE8A2        diagnostic medicine\n1   arxivorg:CBBFE8A2           machine learning\n2   arxivorg:CBBFE8A2            consumer health\n3   arxivorg:CBBFE8A2           natural language\n4   arxivorg:CBBFE8A2    artificial intelligence\n5   arxivorg:CBBFE8A2             medical record\n6   arxivorg:CBBFE8A2          health & medicine\n7   arxivorg:CBBFE8A2             survey article\n8   arxivorg:CBBFE8A2                 cardiology\n9   arxivorg:CBBFE8A2              us government\n10  arxivorg:CBBFE8A2                   oncology\n11  arxivorg:CBBFE8A2             neural network\n12  arxivorg:CBBFE8A2           vascular disease\n13  arxivorg:CBBFE8A2                    ai-cdss\n14  arxivorg:CBBFE8A2                information\n15  arxivorg:CBBFE8A2                       wang\n16  arxivorg:CBBFE8A2                   yokohama\n17  arxivorg:CBBFE8A2                proceedings\n18  arxivorg:CBBFE8A2                  clinician\n19  arxivorg:CBBFE8A2                   workflow\n20  arxivorg:CBBFE8A2      tension and challenge\n21  arxivorg:CBBFE8A2                participant\n22  arxivorg:CBBFE8A2             recommendation\n23  arxivorg:CBBFE8A2           computing system\n24  arxivorg:CBBFE8A2                      china\n25  arxivorg:CBBFE8A2                 ehr system\n26  arxivorg:CBBFE8A2                  diagnosis\n27  arxivorg:CBBFE8A2               rural clinic\n28  arxivorg:CBBFE8A2        brilliant ai doctor\n29  arxivorg:CBBFE8A2               human factor\n30  arxivorg:CBBFE8A2             ai-cdss system\n31  arxivorg:3E2F104A           machine learning\n32  arxivorg:3E2F104A     reinforcement learning\n33  arxivorg:3E2F104A        alzheimer's disease\n34  arxivorg:3E2F104A    artificial intelligence\n35  arxivorg:3E2F104A          health & medicine\n36  arxivorg:3E2F104A                  neurology\n37  arxivorg:3E2F104A             survey article\n38  arxivorg:3E2F104A             neural network\n39  arxivorg:3E2F104A          valid environment\n40  arxivorg:3E2F104A                  sentiment\n41  arxivorg:3E2F104A           denotative state\n42  arxivorg:3E2F104A             social dilemma\n43  arxivorg:3E2F104A          somatic transform\n44  arxivorg:3E2F104A                  posterior\n45  arxivorg:3E2F104A  denotative representation\n46  arxivorg:3E2F104A                 prediction\n47  arxivorg:3E2F104A                 experiment\n48  arxivorg:3E2F104A                   bayesact\n49  arxivorg:3E2F104A                    student\n50  arxivorg:3E2F104A                participant\n51  arxivorg:3E2F104A             representation\n52  arxivorg:3E2F104A          connotative state\n53  arxivorg:3E2F104A                    emotion\n54  arxivorg:3E2F104A                       null\n55  arxivorg:3E2F104A                interaction\n56  arxivorg:3E2F104A                      agent",
      "text/html": "<div>\n<style scoped>\n    .dataframe tbody tr th:only-of-type {\n        vertical-align: middle;\n    }\n\n    .dataframe tbody tr th {\n        vertical-align: top;\n    }\n\n    .dataframe thead th {\n        text-align: right;\n    }\n</style>\n<table border=\"1\" class=\"dataframe\">\n  <thead>\n    <tr style=\"text-align: right;\">\n      <th></th>\n      <th>id</th>\n      <th>tags</th>\n    </tr>\n  </thead>\n  <tbody>\n    <tr>\n      <th>0</th>\n      <td>arxivorg:CBBFE8A2</td>\n      <td>diagnostic medicine</td>\n    </tr>\n    <tr>\n      <th>1</th>\n      <td>arxivorg:CBBFE8A2</td>\n      <td>machine learning</td>\n    </tr>\n    <tr>\n      <th>2</th>\n      <td>arxivorg:CBBFE8A2</td>\n      <td>consumer health</td>\n    </tr>\n    <tr>\n      <th>3</th>\n      <td>arxivorg:CBBFE8A2</td>\n      <td>natural language</td>\n    </tr>\n    <tr>\n      <th>4</th>\n      <td>arxivorg:CBBFE8A2</td>\n      <td>artificial intelligence</td>\n    </tr>\n    <tr>\n      <th>5</th>\n      <td>arxivorg:CBBFE8A2</td>\n      <td>medical record</td>\n    </tr>\n    <tr>\n      <th>6</th>\n      <td>arxivorg:CBBFE8A2</td>\n      <td>health &amp; medicine</td>\n    </tr>\n    <tr>\n      <th>7</th>\n      <td>arxivorg:CBBFE8A2</td>\n      <td>survey article</td>\n    </tr>\n    <tr>\n      <th>8</th>\n      <td>arxivorg:CBBFE8A2</td>\n      <td>cardiology</td>\n    </tr>\n    <tr>\n      <th>9</th>\n      <td>arxivorg:CBBFE8A2</td>\n      <td>us government</td>\n    </tr>\n    <tr>\n      <th>10</th>\n      <td>arxivorg:CBBFE8A2</td>\n      <td>oncology</td>\n    </tr>\n    <tr>\n      <th>11</th>\n      <td>arxivorg:CBBFE8A2</td>\n      <td>neural network</td>\n    </tr>\n    <tr>\n      <th>12</th>\n      <td>arxivorg:CBBFE8A2</td>\n      <td>vascular disease</td>\n    </tr>\n    <tr>\n      <th>13</th>\n      <td>arxivorg:CBBFE8A2</td>\n      <td>ai-cdss</td>\n    </tr>\n    <tr>\n      <th>14</th>\n      <td>arxivorg:CBBFE8A2</td>\n      <td>information</td>\n    </tr>\n    <tr>\n      <th>15</th>\n      <td>arxivorg:CBBFE8A2</td>\n      <td>wang</td>\n    </tr>\n    <tr>\n      <th>16</th>\n      <td>arxivorg:CBBFE8A2</td>\n      <td>yokohama</td>\n    </tr>\n    <tr>\n      <th>17</th>\n      <td>arxivorg:CBBFE8A2</td>\n      <td>proceedings</td>\n    </tr>\n    <tr>\n      <th>18</th>\n      <td>arxivorg:CBBFE8A2</td>\n      <td>clinician</td>\n    </tr>\n    <tr>\n      <th>19</th>\n      <td>arxivorg:CBBFE8A2</td>\n      <td>workflow</td>\n    </tr>\n    <tr>\n      <th>20</th>\n      <td>arxivorg:CBBFE8A2</td>\n      <td>tension and challenge</td>\n    </tr>\n    <tr>\n      <th>21</th>\n      <td>arxivorg:CBBFE8A2</td>\n      <td>participant</td>\n    </tr>\n    <tr>\n      <th>22</th>\n      <td>arxivorg:CBBFE8A2</td>\n      <td>recommendation</td>\n    </tr>\n    <tr>\n      <th>23</th>\n      <td>arxivorg:CBBFE8A2</td>\n      <td>computing system</td>\n    </tr>\n    <tr>\n      <th>24</th>\n      <td>arxivorg:CBBFE8A2</td>\n      <td>china</td>\n    </tr>\n    <tr>\n      <th>25</th>\n      <td>arxivorg:CBBFE8A2</td>\n      <td>ehr system</td>\n    </tr>\n    <tr>\n      <th>26</th>\n      <td>arxivorg:CBBFE8A2</td>\n      <td>diagnosis</td>\n    </tr>\n    <tr>\n      <th>27</th>\n      <td>arxivorg:CBBFE8A2</td>\n      <td>rural clinic</td>\n    </tr>\n    <tr>\n      <th>28</th>\n      <td>arxivorg:CBBFE8A2</td>\n      <td>brilliant ai doctor</td>\n    </tr>\n    <tr>\n      <th>29</th>\n      <td>arxivorg:CBBFE8A2</td>\n      <td>human factor</td>\n    </tr>\n    <tr>\n      <th>30</th>\n      <td>arxivorg:CBBFE8A2</td>\n      <td>ai-cdss system</td>\n    </tr>\n    <tr>\n      <th>31</th>\n      <td>arxivorg:3E2F104A</td>\n      <td>machine learning</td>\n    </tr>\n    <tr>\n      <th>32</th>\n      <td>arxivorg:3E2F104A</td>\n      <td>reinforcement learning</td>\n    </tr>\n    <tr>\n      <th>33</th>\n      <td>arxivorg:3E2F104A</td>\n      <td>alzheimer's disease</td>\n    </tr>\n    <tr>\n      <th>34</th>\n      <td>arxivorg:3E2F104A</td>\n      <td>artificial intelligence</td>\n    </tr>\n    <tr>\n      <th>35</th>\n      <td>arxivorg:3E2F104A</td>\n      <td>health &amp; medicine</td>\n    </tr>\n    <tr>\n      <th>36</th>\n      <td>arxivorg:3E2F104A</td>\n      <td>neurology</td>\n    </tr>\n    <tr>\n      <th>37</th>\n      <td>arxivorg:3E2F104A</td>\n      <td>survey article</td>\n    </tr>\n    <tr>\n      <th>38</th>\n      <td>arxivorg:3E2F104A</td>\n      <td>neural network</td>\n    </tr>\n    <tr>\n      <th>39</th>\n      <td>arxivorg:3E2F104A</td>\n      <td>valid environment</td>\n    </tr>\n    <tr>\n      <th>40</th>\n      <td>arxivorg:3E2F104A</td>\n      <td>sentiment</td>\n    </tr>\n    <tr>\n      <th>41</th>\n      <td>arxivorg:3E2F104A</td>\n      <td>denotative state</td>\n    </tr>\n    <tr>\n      <th>42</th>\n      <td>arxivorg:3E2F104A</td>\n      <td>social dilemma</td>\n    </tr>\n    <tr>\n      <th>43</th>\n      <td>arxivorg:3E2F104A</td>\n      <td>somatic transform</td>\n    </tr>\n    <tr>\n      <th>44</th>\n      <td>arxivorg:3E2F104A</td>\n      <td>posterior</td>\n    </tr>\n    <tr>\n      <th>45</th>\n      <td>arxivorg:3E2F104A</td>\n      <td>denotative representation</td>\n    </tr>\n    <tr>\n      <th>46</th>\n      <td>arxivorg:3E2F104A</td>\n      <td>prediction</td>\n    </tr>\n    <tr>\n      <th>47</th>\n      <td>arxivorg:3E2F104A</td>\n      <td>experiment</td>\n    </tr>\n    <tr>\n      <th>48</th>\n      <td>arxivorg:3E2F104A</td>\n      <td>bayesact</td>\n    </tr>\n    <tr>\n      <th>49</th>\n      <td>arxivorg:3E2F104A</td>\n      <td>student</td>\n    </tr>\n    <tr>\n      <th>50</th>\n      <td>arxivorg:3E2F104A</td>\n      <td>participant</td>\n    </tr>\n    <tr>\n      <th>51</th>\n      <td>arxivorg:3E2F104A</td>\n      <td>representation</td>\n    </tr>\n    <tr>\n      <th>52</th>\n      <td>arxivorg:3E2F104A</td>\n      <td>connotative state</td>\n    </tr>\n    <tr>\n      <th>53</th>\n      <td>arxivorg:3E2F104A</td>\n      <td>emotion</td>\n    </tr>\n    <tr>\n      <th>54</th>\n      <td>arxivorg:3E2F104A</td>\n      <td>null</td>\n    </tr>\n    <tr>\n      <th>55</th>\n      <td>arxivorg:3E2F104A</td>\n      <td>interaction</td>\n    </tr>\n    <tr>\n      <th>56</th>\n      <td>arxivorg:3E2F104A</td>\n      <td>agent</td>\n    </tr>\n  </tbody>\n</table>\n</div>"
     },
     "execution_count": 2,
     "metadata": {},
     "output_type": "execute_result"
    }
   ],
   "source": [
    "rawData.getAllConceptTags()"
   ],
   "metadata": {
    "collapsed": false,
    "pycharm": {
     "name": "#%%\n"
    }
   }
  },
  {
   "cell_type": "markdown",
   "source": [
    "### Cdid"
   ],
   "metadata": {
    "collapsed": false,
    "pycharm": {
     "name": "#%% md\n"
    }
   }
  },
  {
   "cell_type": "code",
   "execution_count": 3,
   "outputs": [
    {
     "data": {
      "text/plain": "0    arxivorg:CBBFE8A2\n1    arxivorg:3E2F104A\nName: cdid, dtype: object"
     },
     "execution_count": 3,
     "metadata": {},
     "output_type": "execute_result"
    }
   ],
   "source": [
    "rawData.getAllCdid()"
   ],
   "metadata": {
    "collapsed": false,
    "pycharm": {
     "name": "#%%\n"
    }
   }
  },
  {
   "cell_type": "markdown",
   "source": [
    "### TaxNodes\n",
    "use a proper data structure (map)"
   ],
   "metadata": {
    "collapsed": false,
    "pycharm": {
     "name": "#%% md\n"
    }
   }
  },
  {
   "cell_type": "code",
   "execution_count": 4,
   "outputs": [
    {
     "data": {
      "text/plain": "                   id                                        tax-node\n0   arxivorg:CBBFE8A2                        Genre|Personal|Interview\n1   arxivorg:CBBFE8A2                                  Genre|Personal\n2   arxivorg:CBBFE8A2                           Genre|Research Report\n3   arxivorg:CBBFE8A2               Genre|Research Report|New Finding\n4   arxivorg:CBBFE8A2  Industry|Health & Medicine|Diagnostic Medicine\n..                ...                                             ...\n58  arxivorg:3E2F104A           Country|Europe|United Kingdom|England\n59  arxivorg:3E2F104A                    Country|North America|Canada\n60  arxivorg:3E2F104A                           Country|North America\n61  arxivorg:3E2F104A                                  Country|Europe\n62  arxivorg:3E2F104A             Country|North America|United States\n\n[63 rows x 2 columns]",
      "text/html": "<div>\n<style scoped>\n    .dataframe tbody tr th:only-of-type {\n        vertical-align: middle;\n    }\n\n    .dataframe tbody tr th {\n        vertical-align: top;\n    }\n\n    .dataframe thead th {\n        text-align: right;\n    }\n</style>\n<table border=\"1\" class=\"dataframe\">\n  <thead>\n    <tr style=\"text-align: right;\">\n      <th></th>\n      <th>id</th>\n      <th>tax-node</th>\n    </tr>\n  </thead>\n  <tbody>\n    <tr>\n      <th>0</th>\n      <td>arxivorg:CBBFE8A2</td>\n      <td>Genre|Personal|Interview</td>\n    </tr>\n    <tr>\n      <th>1</th>\n      <td>arxivorg:CBBFE8A2</td>\n      <td>Genre|Personal</td>\n    </tr>\n    <tr>\n      <th>2</th>\n      <td>arxivorg:CBBFE8A2</td>\n      <td>Genre|Research Report</td>\n    </tr>\n    <tr>\n      <th>3</th>\n      <td>arxivorg:CBBFE8A2</td>\n      <td>Genre|Research Report|New Finding</td>\n    </tr>\n    <tr>\n      <th>4</th>\n      <td>arxivorg:CBBFE8A2</td>\n      <td>Industry|Health &amp; Medicine|Diagnostic Medicine</td>\n    </tr>\n    <tr>\n      <th>...</th>\n      <td>...</td>\n      <td>...</td>\n    </tr>\n    <tr>\n      <th>58</th>\n      <td>arxivorg:3E2F104A</td>\n      <td>Country|Europe|United Kingdom|England</td>\n    </tr>\n    <tr>\n      <th>59</th>\n      <td>arxivorg:3E2F104A</td>\n      <td>Country|North America|Canada</td>\n    </tr>\n    <tr>\n      <th>60</th>\n      <td>arxivorg:3E2F104A</td>\n      <td>Country|North America</td>\n    </tr>\n    <tr>\n      <th>61</th>\n      <td>arxivorg:3E2F104A</td>\n      <td>Country|Europe</td>\n    </tr>\n    <tr>\n      <th>62</th>\n      <td>arxivorg:3E2F104A</td>\n      <td>Country|North America|United States</td>\n    </tr>\n  </tbody>\n</table>\n<p>63 rows × 2 columns</p>\n</div>"
     },
     "execution_count": 4,
     "metadata": {},
     "output_type": "execute_result"
    }
   ],
   "source": [
    "rawData.getAllTaxNodes()"
   ],
   "metadata": {
    "collapsed": false,
    "pycharm": {
     "name": "#%%\n"
    }
   }
  },
  {
   "cell_type": "markdown",
   "source": [
    "### Modified"
   ],
   "metadata": {
    "collapsed": false,
    "pycharm": {
     "name": "#%% md\n"
    }
   }
  },
  {
   "cell_type": "code",
   "execution_count": 5,
   "outputs": [
    {
     "data": {
      "text/plain": "                  id              modified\n0  arxivorg:CBBFE8A2  2021-01-12T00:00:00Z\n1  arxivorg:3E2F104A  2019-08-15T00:00:00Z",
      "text/html": "<div>\n<style scoped>\n    .dataframe tbody tr th:only-of-type {\n        vertical-align: middle;\n    }\n\n    .dataframe tbody tr th {\n        vertical-align: top;\n    }\n\n    .dataframe thead th {\n        text-align: right;\n    }\n</style>\n<table border=\"1\" class=\"dataframe\">\n  <thead>\n    <tr style=\"text-align: right;\">\n      <th></th>\n      <th>id</th>\n      <th>modified</th>\n    </tr>\n  </thead>\n  <tbody>\n    <tr>\n      <th>0</th>\n      <td>arxivorg:CBBFE8A2</td>\n      <td>2021-01-12T00:00:00Z</td>\n    </tr>\n    <tr>\n      <th>1</th>\n      <td>arxivorg:3E2F104A</td>\n      <td>2019-08-15T00:00:00Z</td>\n    </tr>\n  </tbody>\n</table>\n</div>"
     },
     "execution_count": 5,
     "metadata": {},
     "output_type": "execute_result"
    }
   ],
   "source": [
    "rawData.getAllModified()"
   ],
   "metadata": {
    "collapsed": false,
    "pycharm": {
     "name": "#%%\n"
    }
   }
  },
  {
   "cell_type": "markdown",
   "source": [
    "### Authors"
   ],
   "metadata": {
    "collapsed": false,
    "pycharm": {
     "name": "#%% md\n"
    }
   }
  },
  {
   "cell_type": "code",
   "execution_count": 6,
   "outputs": [
    {
     "data": {
      "text/plain": "                  id            authors\n0  arxivorg:CBBFE8A2         Wang, Daku\n1  arxivorg:CBBFE8A2       Wang, Liupin\n2  arxivorg:CBBFE8A2         Zhang, Zha\n3  arxivorg:CBBFE8A2          Wang, Din\n4  arxivorg:CBBFE8A2          Zhu, Haiy\n5  arxivorg:CBBFE8A2         Gao, Yvonn\n6  arxivorg:CBBFE8A2       Fan, Xiangmi\n7  arxivorg:CBBFE8A2          Tian, Fen\n8  arxivorg:3E2F104A         Hoey, Jess\n9  arxivorg:3E2F104A  MacKinnon, Neil J",
      "text/html": "<div>\n<style scoped>\n    .dataframe tbody tr th:only-of-type {\n        vertical-align: middle;\n    }\n\n    .dataframe tbody tr th {\n        vertical-align: top;\n    }\n\n    .dataframe thead th {\n        text-align: right;\n    }\n</style>\n<table border=\"1\" class=\"dataframe\">\n  <thead>\n    <tr style=\"text-align: right;\">\n      <th></th>\n      <th>id</th>\n      <th>authors</th>\n    </tr>\n  </thead>\n  <tbody>\n    <tr>\n      <th>0</th>\n      <td>arxivorg:CBBFE8A2</td>\n      <td>Wang, Daku</td>\n    </tr>\n    <tr>\n      <th>1</th>\n      <td>arxivorg:CBBFE8A2</td>\n      <td>Wang, Liupin</td>\n    </tr>\n    <tr>\n      <th>2</th>\n      <td>arxivorg:CBBFE8A2</td>\n      <td>Zhang, Zha</td>\n    </tr>\n    <tr>\n      <th>3</th>\n      <td>arxivorg:CBBFE8A2</td>\n      <td>Wang, Din</td>\n    </tr>\n    <tr>\n      <th>4</th>\n      <td>arxivorg:CBBFE8A2</td>\n      <td>Zhu, Haiy</td>\n    </tr>\n    <tr>\n      <th>5</th>\n      <td>arxivorg:CBBFE8A2</td>\n      <td>Gao, Yvonn</td>\n    </tr>\n    <tr>\n      <th>6</th>\n      <td>arxivorg:CBBFE8A2</td>\n      <td>Fan, Xiangmi</td>\n    </tr>\n    <tr>\n      <th>7</th>\n      <td>arxivorg:CBBFE8A2</td>\n      <td>Tian, Fen</td>\n    </tr>\n    <tr>\n      <th>8</th>\n      <td>arxivorg:3E2F104A</td>\n      <td>Hoey, Jess</td>\n    </tr>\n    <tr>\n      <th>9</th>\n      <td>arxivorg:3E2F104A</td>\n      <td>MacKinnon, Neil J</td>\n    </tr>\n  </tbody>\n</table>\n</div>"
     },
     "execution_count": 6,
     "metadata": {},
     "output_type": "execute_result"
    }
   ],
   "source": [
    "rawData.getAllAuthorsRaw()"
   ],
   "metadata": {
    "collapsed": false,
    "pycharm": {
     "name": "#%%\n"
    }
   }
  },
  {
   "cell_type": "markdown",
   "source": [
    "### Title"
   ],
   "metadata": {
    "collapsed": false,
    "pycharm": {
     "name": "#%% md\n"
    }
   }
  },
  {
   "cell_type": "code",
   "execution_count": 7,
   "outputs": [
    {
     "data": {
      "text/plain": "                  id                                              title\n0  arxivorg:CBBFE8A2  \"Brilliant AI Doctor\" in Rural China: Tensions...\n1  arxivorg:3E2F104A  \"Conservatives Overfit, Liberals Underfit\": Th...",
      "text/html": "<div>\n<style scoped>\n    .dataframe tbody tr th:only-of-type {\n        vertical-align: middle;\n    }\n\n    .dataframe tbody tr th {\n        vertical-align: top;\n    }\n\n    .dataframe thead th {\n        text-align: right;\n    }\n</style>\n<table border=\"1\" class=\"dataframe\">\n  <thead>\n    <tr style=\"text-align: right;\">\n      <th></th>\n      <th>id</th>\n      <th>title</th>\n    </tr>\n  </thead>\n  <tbody>\n    <tr>\n      <th>0</th>\n      <td>arxivorg:CBBFE8A2</td>\n      <td>\"Brilliant AI Doctor\" in Rural China: Tensions...</td>\n    </tr>\n    <tr>\n      <th>1</th>\n      <td>arxivorg:3E2F104A</td>\n      <td>\"Conservatives Overfit, Liberals Underfit\": Th...</td>\n    </tr>\n  </tbody>\n</table>\n</div>"
     },
     "execution_count": 7,
     "metadata": {},
     "output_type": "execute_result"
    }
   ],
   "source": [
    "rawData.getAllTitle()"
   ],
   "metadata": {
    "collapsed": false,
    "pycharm": {
     "name": "#%%\n"
    }
   }
  }
 ],
 "metadata": {
  "kernelspec": {
   "display_name": "Python 3",
   "language": "python",
   "name": "python3"
  },
  "language_info": {
   "codemirror_mode": {
    "name": "ipython",
    "version": 2
   },
   "file_extension": ".py",
   "mimetype": "text/x-python",
   "name": "python",
   "nbconvert_exporter": "python",
   "pygments_lexer": "ipython2",
   "version": "2.7.6"
  }
 },
 "nbformat": 4,
 "nbformat_minor": 0
}
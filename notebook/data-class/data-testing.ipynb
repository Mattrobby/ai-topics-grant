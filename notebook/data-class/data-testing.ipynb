{
 "cells": [
  {
   "cell_type": "markdown",
   "source": [
    "# <center>Testing Data.py Class</center>\n",
    "---"
   ],
   "metadata": {
    "collapsed": false,
    "pycharm": {
     "name": "#%% md\n"
    }
   }
  },
  {
   "cell_type": "code",
   "execution_count": 2,
   "outputs": [],
   "source": [
    "import data\n",
    "import pandas as pd\n",
    "\n",
    "rawData = data.Data()"
   ],
   "metadata": {
    "collapsed": false,
    "pycharm": {
     "name": "#%%\n"
    }
   }
  },
  {
   "cell_type": "markdown",
   "source": [
    "### Tags"
   ],
   "metadata": {
    "collapsed": false,
    "pycharm": {
     "name": "#%% md\n"
    }
   }
  },
  {
   "cell_type": "code",
   "execution_count": 4,
   "outputs": [
    {
     "data": {
      "text/plain": "                      id                           tags\n0      arxivorg:CBBFE8A2            diagnostic medicine\n1      arxivorg:CBBFE8A2               machine learning\n2      arxivorg:CBBFE8A2                consumer health\n3      arxivorg:CBBFE8A2               natural language\n4      arxivorg:CBBFE8A2        artificial intelligence\n...                  ...                            ...\n22424  arxivorg:548E4A9D              max pooling layer\n22425  arxivorg:548E4A9D   detection and classification\n22426  arxivorg:548E4A9D               confusion matrix\n22427  arxivorg:548E4A9D                        dataset\n22428  arxivorg:548E4A9D  acoustic scene and event 2018\n\n[22429 rows x 2 columns]",
      "text/html": "<div>\n<style scoped>\n    .dataframe tbody tr th:only-of-type {\n        vertical-align: middle;\n    }\n\n    .dataframe tbody tr th {\n        vertical-align: top;\n    }\n\n    .dataframe thead th {\n        text-align: right;\n    }\n</style>\n<table border=\"1\" class=\"dataframe\">\n  <thead>\n    <tr style=\"text-align: right;\">\n      <th></th>\n      <th>id</th>\n      <th>tags</th>\n    </tr>\n  </thead>\n  <tbody>\n    <tr>\n      <th>0</th>\n      <td>arxivorg:CBBFE8A2</td>\n      <td>diagnostic medicine</td>\n    </tr>\n    <tr>\n      <th>1</th>\n      <td>arxivorg:CBBFE8A2</td>\n      <td>machine learning</td>\n    </tr>\n    <tr>\n      <th>2</th>\n      <td>arxivorg:CBBFE8A2</td>\n      <td>consumer health</td>\n    </tr>\n    <tr>\n      <th>3</th>\n      <td>arxivorg:CBBFE8A2</td>\n      <td>natural language</td>\n    </tr>\n    <tr>\n      <th>4</th>\n      <td>arxivorg:CBBFE8A2</td>\n      <td>artificial intelligence</td>\n    </tr>\n    <tr>\n      <th>...</th>\n      <td>...</td>\n      <td>...</td>\n    </tr>\n    <tr>\n      <th>22424</th>\n      <td>arxivorg:548E4A9D</td>\n      <td>max pooling layer</td>\n    </tr>\n    <tr>\n      <th>22425</th>\n      <td>arxivorg:548E4A9D</td>\n      <td>detection and classification</td>\n    </tr>\n    <tr>\n      <th>22426</th>\n      <td>arxivorg:548E4A9D</td>\n      <td>confusion matrix</td>\n    </tr>\n    <tr>\n      <th>22427</th>\n      <td>arxivorg:548E4A9D</td>\n      <td>dataset</td>\n    </tr>\n    <tr>\n      <th>22428</th>\n      <td>arxivorg:548E4A9D</td>\n      <td>acoustic scene and event 2018</td>\n    </tr>\n  </tbody>\n</table>\n<p>22429 rows × 2 columns</p>\n</div>"
     },
     "execution_count": 4,
     "metadata": {},
     "output_type": "execute_result"
    }
   ],
   "source": [
    "rawData.getAllTags()"
   ],
   "metadata": {
    "collapsed": false,
    "pycharm": {
     "name": "#%%\n"
    }
   }
  },
  {
   "cell_type": "markdown",
   "source": [
    "### Cdid"
   ],
   "metadata": {
    "collapsed": false,
    "pycharm": {
     "name": "#%% md\n"
    }
   }
  },
  {
   "cell_type": "code",
   "execution_count": 10,
   "outputs": [
    {
     "data": {
      "text/plain": "0      arxivorg:CBBFE8A2\n1      arxivorg:3E2F104A\n2      arxivorg:70E22CB3\n3      arxivorg:307AE56B\n4      arxivorg:07A12138\n             ...        \n995    arxivorg:365841AA\n996    arxivorg:A7D7FDA1\n997    arxivorg:11FADFA4\n998    arxivorg:DEE5CA59\n999    arxivorg:548E4A9D\nName: cdid, Length: 1000, dtype: object"
     },
     "execution_count": 10,
     "metadata": {},
     "output_type": "execute_result"
    }
   ],
   "source": [
    "rawData.getAllIds()"
   ],
   "metadata": {
    "collapsed": false,
    "pycharm": {
     "name": "#%%\n"
    }
   }
  },
  {
   "cell_type": "markdown",
   "source": [
    "### TaxNodes\n",
    "use a proper data structure (map)"
   ],
   "metadata": {
    "collapsed": false,
    "pycharm": {
     "name": "#%% md\n"
    }
   }
  },
  {
   "cell_type": "code",
   "execution_count": 6,
   "outputs": [
    {
     "data": {
      "text/plain": "                      id                                           tax-node\n0      arxivorg:CBBFE8A2               Genre|Questionnaire & Opinion Survey\n1      arxivorg:CBBFE8A2                              Genre|Research Report\n2      arxivorg:CBBFE8A2                  Genre|Research Report|New Finding\n3      arxivorg:CBBFE8A2     Industry|Health & Medicine|Diagnostic Medicine\n4      arxivorg:CBBFE8A2        Industry|Health & Medicine|Therapeutic Area\n...                  ...                                                ...\n14984  arxivorg:548E4A9D                  Technology|Information Technology\n14985  arxivorg:548E4A9D  Technology|Information Technology|Artificial I...\n14986  arxivorg:548E4A9D  Technology|Information Technology|Artificial I...\n14987  arxivorg:548E4A9D  Technology|Information Technology|Artificial I...\n14988  arxivorg:548E4A9D  Technology|Information Technology|Artificial I...\n\n[14989 rows x 2 columns]",
      "text/html": "<div>\n<style scoped>\n    .dataframe tbody tr th:only-of-type {\n        vertical-align: middle;\n    }\n\n    .dataframe tbody tr th {\n        vertical-align: top;\n    }\n\n    .dataframe thead th {\n        text-align: right;\n    }\n</style>\n<table border=\"1\" class=\"dataframe\">\n  <thead>\n    <tr style=\"text-align: right;\">\n      <th></th>\n      <th>id</th>\n      <th>tax-node</th>\n    </tr>\n  </thead>\n  <tbody>\n    <tr>\n      <th>0</th>\n      <td>arxivorg:CBBFE8A2</td>\n      <td>Genre|Questionnaire &amp; Opinion Survey</td>\n    </tr>\n    <tr>\n      <th>1</th>\n      <td>arxivorg:CBBFE8A2</td>\n      <td>Genre|Research Report</td>\n    </tr>\n    <tr>\n      <th>2</th>\n      <td>arxivorg:CBBFE8A2</td>\n      <td>Genre|Research Report|New Finding</td>\n    </tr>\n    <tr>\n      <th>3</th>\n      <td>arxivorg:CBBFE8A2</td>\n      <td>Industry|Health &amp; Medicine|Diagnostic Medicine</td>\n    </tr>\n    <tr>\n      <th>4</th>\n      <td>arxivorg:CBBFE8A2</td>\n      <td>Industry|Health &amp; Medicine|Therapeutic Area</td>\n    </tr>\n    <tr>\n      <th>...</th>\n      <td>...</td>\n      <td>...</td>\n    </tr>\n    <tr>\n      <th>14984</th>\n      <td>arxivorg:548E4A9D</td>\n      <td>Technology|Information Technology</td>\n    </tr>\n    <tr>\n      <th>14985</th>\n      <td>arxivorg:548E4A9D</td>\n      <td>Technology|Information Technology|Artificial I...</td>\n    </tr>\n    <tr>\n      <th>14986</th>\n      <td>arxivorg:548E4A9D</td>\n      <td>Technology|Information Technology|Artificial I...</td>\n    </tr>\n    <tr>\n      <th>14987</th>\n      <td>arxivorg:548E4A9D</td>\n      <td>Technology|Information Technology|Artificial I...</td>\n    </tr>\n    <tr>\n      <th>14988</th>\n      <td>arxivorg:548E4A9D</td>\n      <td>Technology|Information Technology|Artificial I...</td>\n    </tr>\n  </tbody>\n</table>\n<p>14989 rows × 2 columns</p>\n</div>"
     },
     "execution_count": 6,
     "metadata": {},
     "output_type": "execute_result"
    }
   ],
   "source": [
    "rawData.getAllTaxNodes()"
   ],
   "metadata": {
    "collapsed": false,
    "pycharm": {
     "name": "#%%\n"
    }
   }
  },
  {
   "cell_type": "markdown",
   "source": [
    "### Modified"
   ],
   "metadata": {
    "collapsed": false,
    "pycharm": {
     "name": "#%% md\n"
    }
   }
  },
  {
   "cell_type": "code",
   "execution_count": 7,
   "outputs": [
    {
     "data": {
      "text/plain": "                    id              modified\n0    arxivorg:CBBFE8A2  2021-01-12T00:00:00Z\n1    arxivorg:3E2F104A  2019-08-15T00:00:00Z\n2    arxivorg:70E22CB3  2017-11-14T00:00:00Z\n3    arxivorg:307AE56B  2021-07-27T00:00:00Z\n4    arxivorg:07A12138  2019-03-15T00:00:00Z\n..                 ...                   ...\n995  arxivorg:365841AA  2019-05-14T00:00:00Z\n996  arxivorg:A7D7FDA1  2021-08-27T00:00:00Z\n997  arxivorg:11FADFA4  2019-08-23T00:00:00Z\n998  arxivorg:DEE5CA59  2020-05-29T00:00:00Z\n999  arxivorg:548E4A9D  2018-12-11T00:00:00Z\n\n[1000 rows x 2 columns]",
      "text/html": "<div>\n<style scoped>\n    .dataframe tbody tr th:only-of-type {\n        vertical-align: middle;\n    }\n\n    .dataframe tbody tr th {\n        vertical-align: top;\n    }\n\n    .dataframe thead th {\n        text-align: right;\n    }\n</style>\n<table border=\"1\" class=\"dataframe\">\n  <thead>\n    <tr style=\"text-align: right;\">\n      <th></th>\n      <th>id</th>\n      <th>modified</th>\n    </tr>\n  </thead>\n  <tbody>\n    <tr>\n      <th>0</th>\n      <td>arxivorg:CBBFE8A2</td>\n      <td>2021-01-12T00:00:00Z</td>\n    </tr>\n    <tr>\n      <th>1</th>\n      <td>arxivorg:3E2F104A</td>\n      <td>2019-08-15T00:00:00Z</td>\n    </tr>\n    <tr>\n      <th>2</th>\n      <td>arxivorg:70E22CB3</td>\n      <td>2017-11-14T00:00:00Z</td>\n    </tr>\n    <tr>\n      <th>3</th>\n      <td>arxivorg:307AE56B</td>\n      <td>2021-07-27T00:00:00Z</td>\n    </tr>\n    <tr>\n      <th>4</th>\n      <td>arxivorg:07A12138</td>\n      <td>2019-03-15T00:00:00Z</td>\n    </tr>\n    <tr>\n      <th>...</th>\n      <td>...</td>\n      <td>...</td>\n    </tr>\n    <tr>\n      <th>995</th>\n      <td>arxivorg:365841AA</td>\n      <td>2019-05-14T00:00:00Z</td>\n    </tr>\n    <tr>\n      <th>996</th>\n      <td>arxivorg:A7D7FDA1</td>\n      <td>2021-08-27T00:00:00Z</td>\n    </tr>\n    <tr>\n      <th>997</th>\n      <td>arxivorg:11FADFA4</td>\n      <td>2019-08-23T00:00:00Z</td>\n    </tr>\n    <tr>\n      <th>998</th>\n      <td>arxivorg:DEE5CA59</td>\n      <td>2020-05-29T00:00:00Z</td>\n    </tr>\n    <tr>\n      <th>999</th>\n      <td>arxivorg:548E4A9D</td>\n      <td>2018-12-11T00:00:00Z</td>\n    </tr>\n  </tbody>\n</table>\n<p>1000 rows × 2 columns</p>\n</div>"
     },
     "execution_count": 7,
     "metadata": {},
     "output_type": "execute_result"
    }
   ],
   "source": [
    "rawData.getAllModified()"
   ],
   "metadata": {
    "collapsed": false,
    "pycharm": {
     "name": "#%%\n"
    }
   }
  },
  {
   "cell_type": "markdown",
   "source": [
    "### Authors"
   ],
   "metadata": {
    "collapsed": false,
    "pycharm": {
     "name": "#%% md\n"
    }
   }
  },
  {
   "cell_type": "code",
   "execution_count": 8,
   "outputs": [
    {
     "data": {
      "text/plain": "                     id            authors\n0     arxivorg:CBBFE8A2         Wang, Daku\n1     arxivorg:CBBFE8A2       Wang, Liupin\n2     arxivorg:CBBFE8A2         Zhang, Zha\n3     arxivorg:CBBFE8A2          Wang, Din\n4     arxivorg:CBBFE8A2          Zhu, Haiy\n...                 ...                ...\n3687  arxivorg:DEE5CA59        Tao, Dachen\n3688  arxivorg:548E4A9D        Chew, Jerem\n3689  arxivorg:548E4A9D      Sun, Yingxian\n3690  arxivorg:548E4A9D  Jayasinghe, Lahir\n3691  arxivorg:548E4A9D          Yuen, Cha\n\n[3692 rows x 2 columns]",
      "text/html": "<div>\n<style scoped>\n    .dataframe tbody tr th:only-of-type {\n        vertical-align: middle;\n    }\n\n    .dataframe tbody tr th {\n        vertical-align: top;\n    }\n\n    .dataframe thead th {\n        text-align: right;\n    }\n</style>\n<table border=\"1\" class=\"dataframe\">\n  <thead>\n    <tr style=\"text-align: right;\">\n      <th></th>\n      <th>id</th>\n      <th>authors</th>\n    </tr>\n  </thead>\n  <tbody>\n    <tr>\n      <th>0</th>\n      <td>arxivorg:CBBFE8A2</td>\n      <td>Wang, Daku</td>\n    </tr>\n    <tr>\n      <th>1</th>\n      <td>arxivorg:CBBFE8A2</td>\n      <td>Wang, Liupin</td>\n    </tr>\n    <tr>\n      <th>2</th>\n      <td>arxivorg:CBBFE8A2</td>\n      <td>Zhang, Zha</td>\n    </tr>\n    <tr>\n      <th>3</th>\n      <td>arxivorg:CBBFE8A2</td>\n      <td>Wang, Din</td>\n    </tr>\n    <tr>\n      <th>4</th>\n      <td>arxivorg:CBBFE8A2</td>\n      <td>Zhu, Haiy</td>\n    </tr>\n    <tr>\n      <th>...</th>\n      <td>...</td>\n      <td>...</td>\n    </tr>\n    <tr>\n      <th>3687</th>\n      <td>arxivorg:DEE5CA59</td>\n      <td>Tao, Dachen</td>\n    </tr>\n    <tr>\n      <th>3688</th>\n      <td>arxivorg:548E4A9D</td>\n      <td>Chew, Jerem</td>\n    </tr>\n    <tr>\n      <th>3689</th>\n      <td>arxivorg:548E4A9D</td>\n      <td>Sun, Yingxian</td>\n    </tr>\n    <tr>\n      <th>3690</th>\n      <td>arxivorg:548E4A9D</td>\n      <td>Jayasinghe, Lahir</td>\n    </tr>\n    <tr>\n      <th>3691</th>\n      <td>arxivorg:548E4A9D</td>\n      <td>Yuen, Cha</td>\n    </tr>\n  </tbody>\n</table>\n<p>3692 rows × 2 columns</p>\n</div>"
     },
     "execution_count": 8,
     "metadata": {},
     "output_type": "execute_result"
    }
   ],
   "source": [
    "rawData.getAllAuthorsRaw()"
   ],
   "metadata": {
    "collapsed": false,
    "pycharm": {
     "name": "#%%\n"
    }
   }
  },
  {
   "cell_type": "markdown",
   "source": [
    "### Title"
   ],
   "metadata": {
    "collapsed": false,
    "pycharm": {
     "name": "#%% md\n"
    }
   }
  },
  {
   "cell_type": "code",
   "execution_count": 9,
   "outputs": [
    {
     "data": {
      "text/plain": "                    id                                              title\n0    arxivorg:CBBFE8A2  \"Brilliant AI Doctor\" in Rural China: Tensions...\n1    arxivorg:3E2F104A  \"Conservatives Overfit, Liberals Underfit\": Th...\n2    arxivorg:70E22CB3  \"Dave...I can assure you...that it's going to ...\n3    arxivorg:307AE56B  \"Excavating AI\" Re-excavated: Debunking a Fall...\n4    arxivorg:07A12138  \"Ge Shu Zhi Zhi\": Towards Deep Understanding a...\n..                 ...                                                ...\n995  arxivorg:365841AA  DAS3H: Modeling Student Learning and Forgettin...\n996  arxivorg:A7D7FDA1  DASH: Modularized Human Manipulation Simulatio...\n997  arxivorg:11FADFA4  DAST Model: Deciding About Semantic Complexity...\n998  arxivorg:DEE5CA59  DC-NAS: Divide-and-Conquer Neural Architecture...\n999  arxivorg:548E4A9D          DCASE 2018 Challenge: Solution for Task 5\n\n[1000 rows x 2 columns]",
      "text/html": "<div>\n<style scoped>\n    .dataframe tbody tr th:only-of-type {\n        vertical-align: middle;\n    }\n\n    .dataframe tbody tr th {\n        vertical-align: top;\n    }\n\n    .dataframe thead th {\n        text-align: right;\n    }\n</style>\n<table border=\"1\" class=\"dataframe\">\n  <thead>\n    <tr style=\"text-align: right;\">\n      <th></th>\n      <th>id</th>\n      <th>title</th>\n    </tr>\n  </thead>\n  <tbody>\n    <tr>\n      <th>0</th>\n      <td>arxivorg:CBBFE8A2</td>\n      <td>\"Brilliant AI Doctor\" in Rural China: Tensions...</td>\n    </tr>\n    <tr>\n      <th>1</th>\n      <td>arxivorg:3E2F104A</td>\n      <td>\"Conservatives Overfit, Liberals Underfit\": Th...</td>\n    </tr>\n    <tr>\n      <th>2</th>\n      <td>arxivorg:70E22CB3</td>\n      <td>\"Dave...I can assure you...that it's going to ...</td>\n    </tr>\n    <tr>\n      <th>3</th>\n      <td>arxivorg:307AE56B</td>\n      <td>\"Excavating AI\" Re-excavated: Debunking a Fall...</td>\n    </tr>\n    <tr>\n      <th>4</th>\n      <td>arxivorg:07A12138</td>\n      <td>\"Ge Shu Zhi Zhi\": Towards Deep Understanding a...</td>\n    </tr>\n    <tr>\n      <th>...</th>\n      <td>...</td>\n      <td>...</td>\n    </tr>\n    <tr>\n      <th>995</th>\n      <td>arxivorg:365841AA</td>\n      <td>DAS3H: Modeling Student Learning and Forgettin...</td>\n    </tr>\n    <tr>\n      <th>996</th>\n      <td>arxivorg:A7D7FDA1</td>\n      <td>DASH: Modularized Human Manipulation Simulatio...</td>\n    </tr>\n    <tr>\n      <th>997</th>\n      <td>arxivorg:11FADFA4</td>\n      <td>DAST Model: Deciding About Semantic Complexity...</td>\n    </tr>\n    <tr>\n      <th>998</th>\n      <td>arxivorg:DEE5CA59</td>\n      <td>DC-NAS: Divide-and-Conquer Neural Architecture...</td>\n    </tr>\n    <tr>\n      <th>999</th>\n      <td>arxivorg:548E4A9D</td>\n      <td>DCASE 2018 Challenge: Solution for Task 5</td>\n    </tr>\n  </tbody>\n</table>\n<p>1000 rows × 2 columns</p>\n</div>"
     },
     "execution_count": 9,
     "metadata": {},
     "output_type": "execute_result"
    }
   ],
   "source": [
    "rawData.getAllTitle()"
   ],
   "metadata": {
    "collapsed": false,
    "pycharm": {
     "name": "#%%\n"
    }
   }
  },
  {
   "cell_type": "code",
   "execution_count": null,
   "outputs": [],
   "source": [],
   "metadata": {
    "collapsed": false,
    "pycharm": {
     "name": "#%%\n"
    }
   }
  }
 ],
 "metadata": {
  "kernelspec": {
   "display_name": "Python 3",
   "language": "python",
   "name": "python3"
  },
  "language_info": {
   "codemirror_mode": {
    "name": "ipython",
    "version": 2
   },
   "file_extension": ".py",
   "mimetype": "text/x-python",
   "name": "python",
   "nbconvert_exporter": "python",
   "pygments_lexer": "ipython2",
   "version": "2.7.6"
  }
 },
 "nbformat": 4,
 "nbformat_minor": 0
}
{
 "cells": [
  {
   "cell_type": "markdown",
   "id": "ba531649-2329-4e63-8e41-f6a65f8622f2",
   "metadata": {},
   "source": [
    "# Charting Data "
   ]
  },
  {
   "cell_type": "markdown",
   "id": "3dd90837-146c-476e-8ba4-908b870f1e56",
   "metadata": {
    "tags": []
   },
   "source": [
    "## Pulling Data From Website"
   ]
  },
  {
   "cell_type": "code",
   "execution_count": 1,
   "id": "7c974981-f381-4348-ab7f-a088ce349a5e",
   "metadata": {},
   "outputs": [],
   "source": [
    "import numpy as np\n",
    "import pandas as pd \n",
    "import requests\n",
    "import json\n",
    "\n",
    "data = {\n",
    "    'filters': 'taxnodes:Technology|Information Technology|Artificial Intelligence|Cognitive Science@@semantic-units:arXiv.org',\n",
    "    'fields': 'concept-tagsConf,cdid,taxnodesConf,modified,authorsRaw,title',\n",
    "    'sort': 'title_sort asc',\n",
    "    'limit': 2000,\n",
    "    'offset': 0\n",
    "}\n",
    "\n",
    "response = requests.post('https://aitopics.org/i2kweb/webapi/search', data=data, auth=('aitopics-guest', 'HvGSauJ00COgRnGX'))\n",
    "\n",
    "response_data = response.json()"
   ]
  },
  {
   "cell_type": "markdown",
   "id": "7dedfe96-8a09-42ad-88ec-4273b51a0991",
   "metadata": {},
   "source": [
    "## Strips the Unneeded Strings from Tags"
   ]
  },
  {
   "cell_type": "code",
   "execution_count": 2,
   "id": "a3cf2e81-51f5-48ae-a595-ba1e658a3b2b",
   "metadata": {},
   "outputs": [],
   "source": [
    "def format_tag(tag):\n",
    "    end = tag.find('::')\n",
    "    return (tag[0:end])\n",
    "\n",
    "tag_count = {}\n",
    "\n",
    "for article in response_data:\n",
    "    tags = article.get('concept-tagsConf')\n",
    "    \n",
    "    for tag in tags or []:\n",
    "        tag = format_tag(tag)\n",
    "\n",
    "        if tag in tag_count:\n",
    "            tag_count[tag] += 1\n",
    "        else:\n",
    "            tag_count[tag] = 1"
   ]
  },
  {
   "cell_type": "markdown",
   "id": "b14cf826-814b-49ce-9999-e4631d6b27b5",
   "metadata": {},
   "source": [
    "## Converts the Dictionary to a List of Dictionary "
   ]
  },
  {
   "cell_type": "code",
   "execution_count": 3,
   "id": "f6d92b11-376e-48df-8df3-de2d85a15766",
   "metadata": {},
   "outputs": [
    {
     "data": {
      "text/html": [
       "<div>\n",
       "<style scoped>\n",
       "    .dataframe tbody tr th:only-of-type {\n",
       "        vertical-align: middle;\n",
       "    }\n",
       "\n",
       "    .dataframe tbody tr th {\n",
       "        vertical-align: top;\n",
       "    }\n",
       "\n",
       "    .dataframe thead th {\n",
       "        text-align: right;\n",
       "    }\n",
       "</style>\n",
       "<table border=\"1\" class=\"dataframe\">\n",
       "  <thead>\n",
       "    <tr style=\"text-align: right;\">\n",
       "      <th></th>\n",
       "      <th>Name</th>\n",
       "      <th>Occurances</th>\n",
       "    </tr>\n",
       "  </thead>\n",
       "  <tbody>\n",
       "    <tr>\n",
       "      <th>0</th>\n",
       "      <td>diagnostic medicine</td>\n",
       "      <td>64</td>\n",
       "    </tr>\n",
       "    <tr>\n",
       "      <th>1</th>\n",
       "      <td>machine learning</td>\n",
       "      <td>1736</td>\n",
       "    </tr>\n",
       "    <tr>\n",
       "      <th>2</th>\n",
       "      <td>consumer health</td>\n",
       "      <td>55</td>\n",
       "    </tr>\n",
       "    <tr>\n",
       "      <th>3</th>\n",
       "      <td>natural language</td>\n",
       "      <td>423</td>\n",
       "    </tr>\n",
       "    <tr>\n",
       "      <th>4</th>\n",
       "      <td>artificial intelligence</td>\n",
       "      <td>1984</td>\n",
       "    </tr>\n",
       "    <tr>\n",
       "      <th>...</th>\n",
       "      <td>...</td>\n",
       "      <td>...</td>\n",
       "    </tr>\n",
       "    <tr>\n",
       "      <th>14572</th>\n",
       "      <td>observation signal</td>\n",
       "      <td>1</td>\n",
       "    </tr>\n",
       "    <tr>\n",
       "      <th>14573</th>\n",
       "      <td>deep trace generator</td>\n",
       "      <td>1</td>\n",
       "    </tr>\n",
       "    <tr>\n",
       "      <th>14574</th>\n",
       "      <td>trace conditioning problem</td>\n",
       "      <td>1</td>\n",
       "    </tr>\n",
       "    <tr>\n",
       "      <th>14575</th>\n",
       "      <td>deep trace feature</td>\n",
       "      <td>1</td>\n",
       "    </tr>\n",
       "    <tr>\n",
       "      <th>14576</th>\n",
       "      <td>accurate prediction</td>\n",
       "      <td>1</td>\n",
       "    </tr>\n",
       "  </tbody>\n",
       "</table>\n",
       "<p>14577 rows × 2 columns</p>\n",
       "</div>"
      ],
      "text/plain": [
       "                             Name  Occurances\n",
       "0             diagnostic medicine          64\n",
       "1                machine learning        1736\n",
       "2                 consumer health          55\n",
       "3                natural language         423\n",
       "4         artificial intelligence        1984\n",
       "...                           ...         ...\n",
       "14572          observation signal           1\n",
       "14573        deep trace generator           1\n",
       "14574  trace conditioning problem           1\n",
       "14575          deep trace feature           1\n",
       "14576         accurate prediction           1\n",
       "\n",
       "[14577 rows x 2 columns]"
      ]
     },
     "execution_count": 3,
     "metadata": {},
     "output_type": "execute_result"
    }
   ],
   "source": [
    "to_list = []\n",
    "\n",
    "for key, value in tag_count.items():\n",
    "    temp = {}\n",
    "    temp['Name'] = key\n",
    "    temp['Occurances'] = value\n",
    "    to_list.append(temp)\n",
    "\n",
    "dataFrame = pd.DataFrame(to_list)\n",
    "dataFrame"
   ]
  },
  {
   "cell_type": "markdown",
   "id": "c966ace5-265b-4ac9-9312-fd73b28d06cc",
   "metadata": {},
   "source": [
    "## Getting the Top `n` Largest Values and Plots Them"
   ]
  },
  {
   "cell_type": "code",
   "execution_count": 4,
   "id": "2b7078d7-4126-454e-a148-818a9e6ea185",
   "metadata": {},
   "outputs": [
    {
     "data": {
      "text/plain": [
       "<AxesSubplot:xlabel='Name'>"
      ]
     },
     "execution_count": 4,
     "metadata": {},
     "output_type": "execute_result"
    },
    {
     "data": {
      "image/png": "[encoded data removed]",
      "text/plain": [
       "<Figure size 432x288 with 1 Axes>"
      ]
     },
     "metadata": {
      "needs_background": "light"
     },
     "output_type": "display_data"
    }
   ],
   "source": [
    "dataFrame.nlargest(5, ['Occurances']).plot.bar(x='Name', y='Occurances')"
   ]
  },
  {
   "cell_type": "markdown",
   "id": "b90f4f92-a515-4e9d-bd83-d8430b1c6e7f",
   "metadata": {
    "tags": []
   },
   "source": [
    "# Questions about Data Structures"
   ]
  },
  {
   "cell_type": "markdown",
   "id": "ffcd5ba1-81d4-4e37-b596-49fd61302cb7",
   "metadata": {
    "tags": []
   },
   "source": [
    "## The Strings after the Tags\n",
    "Each set of data gets returned with these numbers after the tag. It is very easy to remove them because you remove everything after `::` but is there a way to do this where we don't have to loop over the entire data set and remove things like this? "
   ]
  },
  {
   "cell_type": "markdown",
   "id": "1bf97867-e15f-4856-adb6-259173b192a6",
   "metadata": {},
   "source": [
    "## Not having to Manipulate the Data with Python"
   ]
  },
  {
   "cell_type": "code",
   "execution_count": 6,
   "id": "ba92f486-d9c2-4846-8fce-c599bb0db10a",
   "metadata": {},
   "outputs": [
    {
     "data": {
      "text/plain": [
       "list"
      ]
     },
     "execution_count": 7,
     "metadata": {},
     "output_type": "execute_result"
    }
   ],
   "source": [
    "responseData = pd.DataFrame(response_data)"
   ]
  },
  {
   "cell_type": "markdown",
   "id": "079d4ae7-fee8-4ce0-bcf8-a1a40ca3cce7",
   "metadata": {},
   "source": [
    "When converting it to a *Data Frame* there is also the issue of each subcatagory having multiple values listed. I looked into nesting *Data Frames* but I saw some responses saying things along the lines of that is not optimal because it will use `python` code to go through values instead of the `C` code. I also saw something called `MultiIndex` but I did not try it out yet. "
   ]
  },
  {
   "cell_type": "markdown",
   "id": "55526c07-ff2f-4d93-8259-7d5b57afb755",
   "metadata": {
    "tags": []
   },
   "source": [
    "## Things I need to try\n",
    "\n",
    "- Removing the unneeded strings using pandas instead of python\n",
    "- Try `MultiIndex` for multilayered indexing "
   ]
  },
  {
   "cell_type": "markdown",
   "id": "dbe77b82-06f0-443c-a56f-fbf7598b5c4e",
   "metadata": {},
   "source": [
    "Plot of time on the `x` axis and count of occurances of the top 4 tags \n",
    "\n",
    "how many occances of tags per week \n",
    "functions for grouping by week (`groupby` & `aggrugate`) \n",
    "\n",
    "---\n",
    "\n",
    "Liner regression "
   ]
  },
  {
   "cell_type": "code",
   "execution_count": null,
   "id": "ed50d34a-668b-4f3d-9992-e0691062a722",
   "metadata": {},
   "outputs": [],
   "source": []
  }
 ],
 "metadata": {
  "kernelspec": {
   "display_name": "Python 3 (ipykernel)",
   "language": "python",
   "name": "python3"
  },
  "language_info": {
   "codemirror_mode": {
    "name": "ipython",
    "version": 3
   },
   "file_extension": ".py",
   "mimetype": "text/x-python",
   "name": "python",
   "nbconvert_exporter": "python",
   "pygments_lexer": "ipython3",
   "version": "3.10.4"
  },
  "toc-autonumbering": false,
  "toc-showcode": false,
  "toc-showmarkdowntxt": false
 },
 "nbformat": 4,
 "nbformat_minor": 5
}

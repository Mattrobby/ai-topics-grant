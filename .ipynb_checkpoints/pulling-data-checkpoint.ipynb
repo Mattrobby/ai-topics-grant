{
 "cells": [
  {
   "cell_type": "markdown",
   "id": "ba531649-2329-4e63-8e41-f6a65f8622f2",
   "metadata": {
    "pycharm": {
     "name": "#%% md\n"
    }
   },
   "source": [
    "# Charting Data "
   ]
  },
  {
   "cell_type": "markdown",
   "id": "3dd90837-146c-476e-8ba4-908b870f1e56",
   "metadata": {
    "pycharm": {
     "name": "#%% md\n"
    }
   },
   "source": [
    "## Pulling Data From Website"
   ]
  },
  {
   "cell_type": "code",
   "execution_count": 1,
   "id": "7c974981-f381-4348-ab7f-a088ce349a5e",
   "metadata": {
    "pycharm": {
     "name": "#%%\n"
    }
   },
   "outputs": [
    {
     "name": "stdout",
     "output_type": "stream",
     "text": [
      "Data Receved\n"
     ]
    }
   ],
   "source": [
    "import numpy as np\n",
    "import pandas as pd \n",
    "import requests\n",
    "import json\n",
    "\n",
    "\n",
    "def format_tag(tag):\n",
    "    end = tag.find('::')\n",
    "    return (tag[0:end])\n",
    "\n",
    "# Gets Data from AI topics\n",
    "data = {\n",
    "  'filters': 'taxnodes:Technology|Information Technology|Artificial Intelligence|Cognitive Science@@semantic-units:arXiv.org',\n",
    "  'fields': 'concept-tagsConf',\n",
    "  'sort': 'title_sort asc'\n",
    "}\n",
    "\n",
    "response = requests.post('https://aitopics.org/i2kweb/webapi/search', data=data, auth=('aitopics-guest', 'HvGSauJ00COgRnGX'))\n",
    "\n",
    "response_data = response.json()\n",
    "\n",
    "# Strips the unneeded Strings from tags and puts them \n",
    "tag_count = {}\n",
    "\n",
    "for article in response_data:\n",
    "    tags = article.get('concept-tagsConf')\n",
    "    \n",
    "    for tag in tags or []:\n",
    "        tag = format_tag(tag)\n",
    "\n",
    "        if tag in tag_count:\n",
    "            tag_count[tag] += 1\n",
    "        else:\n",
    "            tag_count[tag] = 1\n",
    "print('Data Receved')"
   ]
  },
  {
   "cell_type": "markdown",
   "id": "b14cf826-814b-49ce-9999-e4631d6b27b5",
   "metadata": {
    "pycharm": {
     "name": "#%% md\n"
    }
   },
   "source": [
    "## Converts the Dictionary to a List of Dictionary "
   ]
  },
  {
   "cell_type": "code",
   "execution_count": 2,
   "id": "f6d92b11-376e-48df-8df3-de2d85a15766",
   "metadata": {
    "pycharm": {
     "name": "#%%\n"
    }
   },
   "outputs": [
    {
     "data": {
      "text/html": [
       "<div>\n",
       "<style scoped>\n",
       "    .dataframe tbody tr th:only-of-type {\n",
       "        vertical-align: middle;\n",
       "    }\n",
       "\n",
       "    .dataframe tbody tr th {\n",
       "        vertical-align: top;\n",
       "    }\n",
       "\n",
       "    .dataframe thead th {\n",
       "        text-align: right;\n",
       "    }\n",
       "</style>\n",
       "<table border=\"1\" class=\"dataframe\">\n",
       "  <thead>\n",
       "    <tr style=\"text-align: right;\">\n",
       "      <th></th>\n",
       "      <th>Name</th>\n",
       "      <th>Occurances</th>\n",
       "    </tr>\n",
       "  </thead>\n",
       "  <tbody>\n",
       "    <tr>\n",
       "      <th>0</th>\n",
       "      <td>diagnostic medicine</td>\n",
       "      <td>31</td>\n",
       "    </tr>\n",
       "    <tr>\n",
       "      <th>1</th>\n",
       "      <td>machine learning</td>\n",
       "      <td>852</td>\n",
       "    </tr>\n",
       "    <tr>\n",
       "      <th>2</th>\n",
       "      <td>consumer health</td>\n",
       "      <td>31</td>\n",
       "    </tr>\n",
       "    <tr>\n",
       "      <th>3</th>\n",
       "      <td>natural language</td>\n",
       "      <td>207</td>\n",
       "    </tr>\n",
       "    <tr>\n",
       "      <th>4</th>\n",
       "      <td>artificial intelligence</td>\n",
       "      <td>990</td>\n",
       "    </tr>\n",
       "  </tbody>\n",
       "</table>\n",
       "</div>"
      ],
      "text/plain": [
       "                      Name  Occurances\n",
       "0      diagnostic medicine          31\n",
       "1         machine learning         852\n",
       "2          consumer health          31\n",
       "3         natural language         207\n",
       "4  artificial intelligence         990"
      ]
     },
     "execution_count": 2,
     "metadata": {},
     "output_type": "execute_result"
    }
   ],
   "source": [
    "to_list = []\n",
    "\n",
    "for key, value in tag_count.items():\n",
    "    temp = {}\n",
    "    temp['Name'] = key\n",
    "    temp['Occurances'] = value\n",
    "    to_list.append(temp)\n",
    "\n",
    "dataFrame = pd.DataFrame(to_list)\n",
    "dataFrame.head() "
   ]
  },
  {
   "cell_type": "markdown",
   "id": "c966ace5-265b-4ac9-9312-fd73b28d06cc",
   "metadata": {
    "pycharm": {
     "name": "#%% md\n"
    }
   },
   "source": [
    "## Getting the Top `n` Largest Values"
   ]
  },
  {
   "cell_type": "code",
   "execution_count": null,
   "id": "f6e238c1-50fa-417c-838a-09f64b7ce16e",
   "metadata": {
    "pycharm": {
     "name": "#%%\n"
    }
   },
   "outputs": [],
   "source": [
    "print('test')"
   ]
  },
  {
   "cell_type": "code",
   "execution_count": null,
   "id": "b8c6c061-d176-43b1-8689-84a19efe64e2",
   "metadata": {
    "pycharm": {
     "name": "#%%\n"
    }
   },
   "outputs": [],
   "source": []
  }
 ],
 "metadata": {
  "kernelspec": {
   "display_name": "Python 3 (ipykernel)",
   "language": "python",
   "name": "python3"
  },
  "language_info": {
   "codemirror_mode": {
    "name": "ipython",
    "version": 3
   },
   "file_extension": ".py",
   "mimetype": "text/x-python",
   "name": "python",
   "nbconvert_exporter": "python",
   "pygments_lexer": "ipython3",
   "version": "3.10.4"
  }
 },
 "nbformat": 4,
 "nbformat_minor": 5
}
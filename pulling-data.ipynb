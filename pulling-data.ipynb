{
 "cells": [
  {
   "cell_type": "markdown",
   "id": "ba531649-2329-4e63-8e41-f6a65f8622f2",
   "metadata": {},
   "source": [
    "# Charting Data "
   ]
  },
  {
   "cell_type": "markdown",
   "id": "3dd90837-146c-476e-8ba4-908b870f1e56",
   "metadata": {
    "tags": []
   },
   "source": [
    "## Pulling Data From Website"
   ]
  },
  {
   "cell_type": "code",
   "execution_count": 94,
   "id": "7c974981-f381-4348-ab7f-a088ce349a5e",
   "metadata": {},
   "outputs": [],
   "source": [
    "import numpy as np\n",
    "import pandas as pd \n",
    "import requests\n",
    "import json\n",
    "\n",
    "data = {\n",
    "    'filters': 'taxnodes:Technology|Information Technology|Artificial Intelligence|Cognitive Science@@semantic-units:arXiv.org',\n",
    "    'fields': 'concept-tagsConf,cdid,taxnodesConf,modified,authorsRaw,title',\n",
    "    'sort': 'title_sort asc',\n",
    "    'limit': 2000,\n",
    "    'offset': 0\n",
    "}\n",
    "\n",
    "response = requests.post('https://aitopics.org/i2kweb/webapi/search', data=data, auth=('aitopics-guest', 'HvGSauJ00COgRnGX'))\n",
    "\n",
    "response_data = response.json()"
   ]
  },
  {
   "cell_type": "markdown",
   "id": "7dedfe96-8a09-42ad-88ec-4273b51a0991",
   "metadata": {},
   "source": [
    "## Strips the Unneeded Strings from Tags"
   ]
  },
  {
   "cell_type": "code",
   "execution_count": 95,
   "id": "a3cf2e81-51f5-48ae-a595-ba1e658a3b2b",
   "metadata": {},
   "outputs": [],
   "source": [
    "def format_tag(tag):\n",
    "    end = tag.find('::')\n",
    "    return (tag[0:end])\n",
    "\n",
    "tag_count = {}\n",
    "\n",
    "for article in response_data:\n",
    "    tags = article.get('concept-tagsConf')\n",
    "    \n",
    "    for tag in tags or []:\n",
    "        tag = format_tag(tag)\n",
    "\n",
    "        if tag in tag_count:\n",
    "            tag_count[tag] += 1\n",
    "        else:\n",
    "            tag_count[tag] = 1"
   ]
  },
  {
   "cell_type": "markdown",
   "id": "b14cf826-814b-49ce-9999-e4631d6b27b5",
   "metadata": {},
   "source": [
    "## Converts the Dictionary to a List of Dictionary "
   ]
  },
  {
   "cell_type": "code",
   "execution_count": 96,
   "id": "f6d92b11-376e-48df-8df3-de2d85a15766",
   "metadata": {},
   "outputs": [
    {
     "data": {
      "text/html": [
       "<div>\n",
       "<style scoped>\n",
       "    .dataframe tbody tr th:only-of-type {\n",
       "        vertical-align: middle;\n",
       "    }\n",
       "\n",
       "    .dataframe tbody tr th {\n",
       "        vertical-align: top;\n",
       "    }\n",
       "\n",
       "    .dataframe thead th {\n",
       "        text-align: right;\n",
       "    }\n",
       "</style>\n",
       "<table border=\"1\" class=\"dataframe\">\n",
       "  <thead>\n",
       "    <tr style=\"text-align: right;\">\n",
       "      <th></th>\n",
       "      <th>Name</th>\n",
       "      <th>Occurances</th>\n",
       "    </tr>\n",
       "  </thead>\n",
       "  <tbody>\n",
       "    <tr>\n",
       "      <th>0</th>\n",
       "      <td>diagnostic medicine</td>\n",
       "      <td>62</td>\n",
       "    </tr>\n",
       "    <tr>\n",
       "      <th>1</th>\n",
       "      <td>machine learning</td>\n",
       "      <td>1735</td>\n",
       "    </tr>\n",
       "    <tr>\n",
       "      <th>2</th>\n",
       "      <td>consumer health</td>\n",
       "      <td>56</td>\n",
       "    </tr>\n",
       "    <tr>\n",
       "      <th>3</th>\n",
       "      <td>natural language</td>\n",
       "      <td>423</td>\n",
       "    </tr>\n",
       "    <tr>\n",
       "      <th>4</th>\n",
       "      <td>artificial intelligence</td>\n",
       "      <td>1985</td>\n",
       "    </tr>\n",
       "    <tr>\n",
       "      <th>...</th>\n",
       "      <td>...</td>\n",
       "      <td>...</td>\n",
       "    </tr>\n",
       "    <tr>\n",
       "      <th>14515</th>\n",
       "      <td>pc-dart</td>\n",
       "      <td>2</td>\n",
       "    </tr>\n",
       "    <tr>\n",
       "      <th>14516</th>\n",
       "      <td>darts-2nd</td>\n",
       "      <td>1</td>\n",
       "    </tr>\n",
       "    <tr>\n",
       "      <th>14517</th>\n",
       "      <td>lbt</td>\n",
       "      <td>1</td>\n",
       "    </tr>\n",
       "    <tr>\n",
       "      <th>14518</th>\n",
       "      <td>cifar-10 and cifar-100</td>\n",
       "      <td>1</td>\n",
       "    </tr>\n",
       "    <tr>\n",
       "      <th>14519</th>\n",
       "      <td>rn50</td>\n",
       "      <td>1</td>\n",
       "    </tr>\n",
       "  </tbody>\n",
       "</table>\n",
       "<p>14520 rows × 2 columns</p>\n",
       "</div>"
      ],
      "text/plain": [
       "                          Name  Occurances\n",
       "0          diagnostic medicine          62\n",
       "1             machine learning        1735\n",
       "2              consumer health          56\n",
       "3             natural language         423\n",
       "4      artificial intelligence        1985\n",
       "...                        ...         ...\n",
       "14515                  pc-dart           2\n",
       "14516                darts-2nd           1\n",
       "14517                      lbt           1\n",
       "14518   cifar-10 and cifar-100           1\n",
       "14519                     rn50           1\n",
       "\n",
       "[14520 rows x 2 columns]"
      ]
     },
     "execution_count": 96,
     "metadata": {},
     "output_type": "execute_result"
    }
   ],
   "source": [
    "to_list = []\n",
    "\n",
    "for key, value in tag_count.items():\n",
    "    temp = {}\n",
    "    temp['Name'] = key\n",
    "    temp['Occurances'] = value\n",
    "    to_list.append(temp)\n",
    "\n",
    "dataFrame = pd.DataFrame(to_list)\n",
    "dataFrame"
   ]
  },
  {
   "cell_type": "markdown",
   "id": "c966ace5-265b-4ac9-9312-fd73b28d06cc",
   "metadata": {},
   "source": [
    "## Getting the Top `n` Largest Values and Plots Them"
   ]
  },
  {
   "cell_type": "code",
   "execution_count": 97,
   "id": "2b7078d7-4126-454e-a148-818a9e6ea185",
   "metadata": {},
   "outputs": [
    {
     "data": {
      "text/plain": [
       "<AxesSubplot:xlabel='Name'>"
      ]
     },
     "execution_count": 97,
     "metadata": {},
     "output_type": "execute_result"
    },
    {
     "data": {
      "image/png": "[encoded data removed]",
      "text/plain": [
       "<Figure size 432x288 with 1 Axes>"
      ]
     },
     "metadata": {
      "needs_background": "light"
     },
     "output_type": "display_data"
    }
   ],
   "source": [
    "dataFrame.nlargest(5, ['Occurances']).plot.bar(x='Name', y='Occurances')"
   ]
  },
  {
   "cell_type": "markdown",
   "id": "b90f4f92-a515-4e9d-bd83-d8430b1c6e7f",
   "metadata": {
    "tags": []
   },
   "source": [
    "# Questions about Data Structures"
   ]
  },
  {
   "cell_type": "markdown",
   "id": "ffcd5ba1-81d4-4e37-b596-49fd61302cb7",
   "metadata": {
    "tags": []
   },
   "source": [
    "## The Strings after the Tags\n",
    "Each set of data gets returned with these numbers after the tag. It is very easy to remove them because you remove everything after `::` but is there a way to do this where we don't have to loop over the entire data set and remove things like this? "
   ]
  },
  {
   "cell_type": "markdown",
   "id": "1bf97867-e15f-4856-adb6-259173b192a6",
   "metadata": {},
   "source": [
    "## Not having to Manipulate the Data with Python"
   ]
  },
  {
   "cell_type": "code",
   "execution_count": 98,
   "id": "ba92f486-d9c2-4846-8fce-c599bb0db10a",
   "metadata": {},
   "outputs": [
    {
     "data": {
      "text/html": [
       "<div>\n",
       "<style scoped>\n",
       "    .dataframe tbody tr th:only-of-type {\n",
       "        vertical-align: middle;\n",
       "    }\n",
       "\n",
       "    .dataframe tbody tr th {\n",
       "        vertical-align: top;\n",
       "    }\n",
       "\n",
       "    .dataframe thead th {\n",
       "        text-align: right;\n",
       "    }\n",
       "</style>\n",
       "<table border=\"1\" class=\"dataframe\">\n",
       "  <thead>\n",
       "    <tr style=\"text-align: right;\">\n",
       "      <th></th>\n",
       "      <th>concept-tagsConf</th>\n",
       "      <th>cdid</th>\n",
       "      <th>taxnodesConf</th>\n",
       "      <th>modified</th>\n",
       "      <th>authorsRaw</th>\n",
       "      <th>title</th>\n",
       "    </tr>\n",
       "  </thead>\n",
       "  <tbody>\n",
       "    <tr>\n",
       "      <th>0</th>\n",
       "      <td>[diagnostic medicine::175.778, machine learnin...</td>\n",
       "      <td>arxivorg:CBBFE8A2</td>\n",
       "      <td>[Genre|Personal|Interview::0.477154, Genre|Per...</td>\n",
       "      <td>2021-01-12T00:00:00Z</td>\n",
       "      <td>[Wang, Dakuo, Wang, Liuping, Zhang, Zhan, Wang, Ding, Zhu, Haiyi, Gao, Yvonn...</td>\n",
       "      <td>\"Brilliant AI Doctor\" in Rural China: Tensions and Challenges in AI-Powered ...</td>\n",
       "    </tr>\n",
       "    <tr>\n",
       "      <th>1</th>\n",
       "      <td>[machine learning::262.338, reinforcement lear...</td>\n",
       "      <td>arxivorg:3E2F104A</td>\n",
       "      <td>[Industry|Health &amp; Medicine|Therapeutic Area::...</td>\n",
       "      <td>2019-08-15T00:00:00Z</td>\n",
       "      <td>[Hoey, Jesse, MacKinnon, Neil J.]</td>\n",
       "      <td>\"Conservatives Overfit, Liberals Underfit\": The Social-Psychological Control...</td>\n",
       "    </tr>\n",
       "    <tr>\n",
       "      <th>2</th>\n",
       "      <td>[machine learning::593.251, natural language::...</td>\n",
       "      <td>arxivorg:70E22CB3</td>\n",
       "      <td>[Country|North America::1.0, Country|North Ame...</td>\n",
       "      <td>2017-11-14T00:00:00Z</td>\n",
       "      <td>[Israelsen, Brett W, Ahmed, Nisar R]</td>\n",
       "      <td>\"Dave...I can assure you...that it's going to be all right...\" -- A definiti...</td>\n",
       "    </tr>\n",
       "    <tr>\n",
       "      <th>3</th>\n",
       "      <td>[machine learning::133.55, artificial intellig...</td>\n",
       "      <td>arxivorg:307AE56B</td>\n",
       "      <td>[Genre|Research Report::1.0, Genre|Research Re...</td>\n",
       "      <td>2021-07-27T00:00:00Z</td>\n",
       "      <td>[Lyons, Michael J.]</td>\n",
       "      <td>\"Excavating AI\" Re-excavated: Debunking a Fallacious Account of the JAFFE Da...</td>\n",
       "    </tr>\n",
       "    <tr>\n",
       "      <th>4</th>\n",
       "      <td>[machine learning::18.4734, artificial intelli...</td>\n",
       "      <td>arxivorg:07A12138</td>\n",
       "      <td>[Technology|Information Technology|Communicati...</td>\n",
       "      <td>2019-03-15T00:00:00Z</td>\n",
       "      <td>[Hu, Baogang, Dong, Weiming]</td>\n",
       "      <td>\"Ge Shu Zhi Zhi\": Towards Deep Understanding about Worlds</td>\n",
       "    </tr>\n",
       "    <tr>\n",
       "      <th>...</th>\n",
       "      <td>...</td>\n",
       "      <td>...</td>\n",
       "      <td>...</td>\n",
       "      <td>...</td>\n",
       "      <td>...</td>\n",
       "      <td>...</td>\n",
       "    </tr>\n",
       "    <tr>\n",
       "      <th>1995</th>\n",
       "      <td>[machine learning::37.6269, artificial intelli...</td>\n",
       "      <td>arxivorg:73A7B4B7</td>\n",
       "      <td>[Technology|Information Technology|Artificial ...</td>\n",
       "      <td>2017-11-09T00:00:00Z</td>\n",
       "      <td>[Kulkarni, Shruti R., Alexiades, John M., Rajendran, Bipin]</td>\n",
       "      <td>Learning and Real-time Classification of Hand-written Digits With Spiking Ne...</td>\n",
       "    </tr>\n",
       "    <tr>\n",
       "      <th>1996</th>\n",
       "      <td>[machine learning::75.224, natural language::7...</td>\n",
       "      <td>arxivorg:75747166</td>\n",
       "      <td>[Technology|Information Technology|Artificial ...</td>\n",
       "      <td>2019-07-15T00:00:00Z</td>\n",
       "      <td>[Hudson, Drew A., Manning, Christopher D.]</td>\n",
       "      <td>Learning by Abstraction: The Neural State Machine</td>\n",
       "    </tr>\n",
       "    <tr>\n",
       "      <th>1997</th>\n",
       "      <td>[deep learning::202.469, neuron::202.469, neur...</td>\n",
       "      <td>arxivorg:F0DBABC8</td>\n",
       "      <td>[Country|North America::0.66745, Country|North...</td>\n",
       "      <td>2021-11-21T00:00:00Z</td>\n",
       "      <td>[Peng, Jian, Sun, Xian, Deng, Min, Tao, Chao, Tang, Bo, Li, Wenbo, Wu, Guohu...</td>\n",
       "      <td>Learning by Active Forgetting for Neural Networks</td>\n",
       "    </tr>\n",
       "    <tr>\n",
       "      <th>1998</th>\n",
       "      <td>[machine learning::106.851, artificial intelli...</td>\n",
       "      <td>arxivorg:6BB25370</td>\n",
       "      <td>[Technology|Information Technology|Artificial ...</td>\n",
       "      <td>2020-12-23T00:00:00Z</td>\n",
       "      <td>[Hosseini, Ramtin, Xie, Pengtao]</td>\n",
       "      <td>Learning by Self-Explanation, with Application to Neural Architecture Search</td>\n",
       "    </tr>\n",
       "    <tr>\n",
       "      <th>1999</th>\n",
       "      <td>[machine learning::138.16, artificial intellig...</td>\n",
       "      <td>arxivorg:190E7F8A</td>\n",
       "      <td>[Technology|Information Technology|Artificial ...</td>\n",
       "      <td>2021-03-11T00:00:00Z</td>\n",
       "      <td>[Sheth, Parth, Jiang, Yueyu, Xie, Pengtao]</td>\n",
       "      <td>Learning by Teaching, with Application to Neural Architecture Search</td>\n",
       "    </tr>\n",
       "  </tbody>\n",
       "</table>\n",
       "<p>2000 rows × 6 columns</p>\n",
       "</div>"
      ],
      "text/plain": [
       "                                       concept-tagsConf               cdid  \\\n",
       "0     [diagnostic medicine::175.778, machine learnin...  arxivorg:CBBFE8A2   \n",
       "1     [machine learning::262.338, reinforcement lear...  arxivorg:3E2F104A   \n",
       "2     [machine learning::593.251, natural language::...  arxivorg:70E22CB3   \n",
       "3     [machine learning::133.55, artificial intellig...  arxivorg:307AE56B   \n",
       "4     [machine learning::18.4734, artificial intelli...  arxivorg:07A12138   \n",
       "...                                                 ...                ...   \n",
       "1995  [machine learning::37.6269, artificial intelli...  arxivorg:73A7B4B7   \n",
       "1996  [machine learning::75.224, natural language::7...  arxivorg:75747166   \n",
       "1997  [deep learning::202.469, neuron::202.469, neur...  arxivorg:F0DBABC8   \n",
       "1998  [machine learning::106.851, artificial intelli...  arxivorg:6BB25370   \n",
       "1999  [machine learning::138.16, artificial intellig...  arxivorg:190E7F8A   \n",
       "\n",
       "                                           taxnodesConf              modified  \\\n",
       "0     [Genre|Personal|Interview::0.477154, Genre|Per...  2021-01-12T00:00:00Z   \n",
       "1     [Industry|Health & Medicine|Therapeutic Area::...  2019-08-15T00:00:00Z   \n",
       "2     [Country|North America::1.0, Country|North Ame...  2017-11-14T00:00:00Z   \n",
       "3     [Genre|Research Report::1.0, Genre|Research Re...  2021-07-27T00:00:00Z   \n",
       "4     [Technology|Information Technology|Communicati...  2019-03-15T00:00:00Z   \n",
       "...                                                 ...                   ...   \n",
       "1995  [Technology|Information Technology|Artificial ...  2017-11-09T00:00:00Z   \n",
       "1996  [Technology|Information Technology|Artificial ...  2019-07-15T00:00:00Z   \n",
       "1997  [Country|North America::0.66745, Country|North...  2021-11-21T00:00:00Z   \n",
       "1998  [Technology|Information Technology|Artificial ...  2020-12-23T00:00:00Z   \n",
       "1999  [Technology|Information Technology|Artificial ...  2021-03-11T00:00:00Z   \n",
       "\n",
       "                                             authorsRaw  \\\n",
       "0     [Wang, Dakuo, Wang, Liuping, Zhang, Zhan, Wang...   \n",
       "1                     [Hoey, Jesse, MacKinnon, Neil J.]   \n",
       "2                  [Israelsen, Brett W, Ahmed, Nisar R]   \n",
       "3                                   [Lyons, Michael J.]   \n",
       "4                          [Hu, Baogang, Dong, Weiming]   \n",
       "...                                                 ...   \n",
       "1995  [Kulkarni, Shruti R., Alexiades, John M., Raje...   \n",
       "1996         [Hudson, Drew A., Manning, Christopher D.]   \n",
       "1997  [Peng, Jian, Sun, Xian, Deng, Min, Tao, Chao, ...   \n",
       "1998                   [Hosseini, Ramtin, Xie, Pengtao]   \n",
       "1999         [Sheth, Parth, Jiang, Yueyu, Xie, Pengtao]   \n",
       "\n",
       "                                                  title  \n",
       "0     \"Brilliant AI Doctor\" in Rural China: Tensions...  \n",
       "1     \"Conservatives Overfit, Liberals Underfit\": Th...  \n",
       "2     \"Dave...I can assure you...that it's going to ...  \n",
       "3     \"Excavating AI\" Re-excavated: Debunking a Fall...  \n",
       "4     \"Ge Shu Zhi Zhi\": Towards Deep Understanding a...  \n",
       "...                                                 ...  \n",
       "1995  Learning and Real-time Classification of Hand-...  \n",
       "1996  Learning by Abstraction: The Neural State Machine  \n",
       "1997  Learning by Active Forgetting for Neural Networks  \n",
       "1998  Learning by Self-Explanation, with Application...  \n",
       "1999  Learning by Teaching, with Application to Neur...  \n",
       "\n",
       "[2000 rows x 6 columns]"
      ]
     },
     "execution_count": 98,
     "metadata": {},
     "output_type": "execute_result"
    }
   ],
   "source": [
    "responseData = pd.DataFrame(response_data)\n",
    "responseData"
   ]
  },
  {
   "cell_type": "markdown",
   "id": "079d4ae7-fee8-4ce0-bcf8-a1a40ca3cce7",
   "metadata": {},
   "source": [
    "When converting it to a *Data Frame* there is also the issue of each subcatagory having multiple values listed. I looked into nesting *Data Frames* but I saw some responses saying things along the lines of that is not optimal because it will use `python` code to go through values instead of the `C` code. I also saw something called `MultiIndex` but I did not try it out yet. "
   ]
  },
  {
   "cell_type": "markdown",
   "id": "55526c07-ff2f-4d93-8259-7d5b57afb755",
   "metadata": {
    "tags": []
   },
   "source": [
    "## Things I need to try\n",
    "\n",
    "- Removing the unneeded strings using pandas instead of python\n",
    "- Try `MultiIndex` for multilayered indexing "
   ]
  },
  {
   "cell_type": "markdown",
   "id": "dbe77b82-06f0-443c-a56f-fbf7598b5c4e",
   "metadata": {},
   "source": [
    "Plot of time on the `x` axis and count of occurances of the top 4 tags \n",
    "\n",
    "how many occances of tags per week \n",
    "functions for grouping by week (`groupby` & `aggrugate`) \n",
    "\n",
    "---\n",
    "\n",
    "Liner regression "
   ]
  },
  {
   "cell_type": "code",
   "execution_count": null,
   "id": "ed50d34a-668b-4f3d-9992-e0691062a722",
   "metadata": {},
   "outputs": [],
   "source": []
  }
 ],
 "metadata": {
  "kernelspec": {
   "display_name": "Python 3 (ipykernel)",
   "language": "python",
   "name": "python3"
  },
  "language_info": {
   "codemirror_mode": {
    "name": "ipython",
    "version": 3
   },
   "file_extension": ".py",
   "mimetype": "text/x-python",
   "name": "python",
   "nbconvert_exporter": "python",
   "pygments_lexer": "ipython3",
   "version": "3.10.4"
  },
  "toc-autonumbering": false,
  "toc-showcode": false,
  "toc-showmarkdowntxt": false
 },
 "nbformat": 4,
 "nbformat_minor": 5
}
